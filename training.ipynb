{
 "cells": [
  {
   "cell_type": "markdown",
   "id": "d3b33bbb",
   "metadata": {},
   "source": [
    "## Importing modules"
   ]
  },
  {
   "cell_type": "code",
   "execution_count": 8,
   "id": "5a91396a",
   "metadata": {},
   "outputs": [],
   "source": [
    "##ConvLSTM\n",
    "import tensorflow as tf\n",
    "from tensorflow import keras\n",
    "import tensorflow.keras as k\n",
    "from tensorflow.keras import layers\n",
    "import matplotlib.pyplot as plt\n",
    "import xarray as xr\n",
    "import numpy as np\n",
    "from numpy import float32\n",
    "from dataset_64 import ClimateHackDataset\n",
    "import torch.optim as optim\n",
    "from torch.utils.data import DataLoader\n",
    "import torch as pt\n",
    "import torchvision as tv\n",
    "\n",
    "#from functools import partial"
   ]
  },
  {
   "cell_type": "code",
   "execution_count": 9,
   "id": "a1fca0eb",
   "metadata": {},
   "outputs": [],
   "source": [
    "######DO NOT TOUCH############\n",
    "class DataGenerator(k.utils.Sequence):\n",
    "    def __init__(self, gen, ncl):\n",
    "        self.gen = gen\n",
    "        self.iter = iter(gen)\n",
    "        self.ncl = ncl\n",
    "\n",
    "    def __getitem__(self, _):\n",
    "        try:\n",
    "            coordinates, features, labels = next(self.iter)\n",
    "        except StopIteration:\n",
    "            self.iter = iter(self.gen)\n",
    "            coordinates, features, labels = next(self.iter)\n",
    "        #tensor is (batch_size, chann, H, W); convert to (batch, H, W, chann)\n",
    "        features = features.permute(0, 2, 3, 1).numpy()\n",
    "        labels = labels.permute(0, 2, 3, 1).numpy()\n",
    "    #Input must be (batch_size, frame_num, H, W, channels)\n",
    "        features = np.expand_dims(features, 0) \n",
    "        Images = features[0, :, :, :, :]\n",
    "        X = tf.image.resize_with_crop_or_pad(Images, 64, 64)\n",
    "        features = np.expand_dims(X, 1) \n",
    "        ######DO NOT TOUCH############\n",
    "        labels = np.expand_dims(labels, 0) \n",
    "        labels = labels[0, :, :, :, :]\n",
    "        labels = np.expand_dims(labels, 1) \n",
    "        #Expanding dimensions (frame number)\n",
    "        #X = X/1023\n",
    "        \n",
    "        return features, labels\n",
    "\n",
    "    def __len__(self):\n",
    "        return 1000 #len(list(self.gen))"
   ]
  },
  {
   "cell_type": "code",
   "execution_count": 3,
   "id": "ff927a0d",
   "metadata": {},
   "outputs": [],
   "source": [
    "# import tensorflow_addons as tfa\n",
    "\n",
    "# def Ranger(sync_period=6,\n",
    "#            slow_step_size=0.5,\n",
    "#            learning_rate=0.001,\n",
    "#            beta_1=0.95,\n",
    "#            beta_2=0.999,\n",
    "#            epsilon=1e-7,\n",
    "#            weight_decay=0.,\n",
    "#            amsgrad=False,\n",
    "#            sma_threshold=5.0,\n",
    "#            total_steps=0,\n",
    "#            warmup_proportion=0.1,\n",
    "#            min_lr=0.0001,\n",
    "#            name=\"Ranger\"):\n",
    "#     inner = tfa.optimizers.RectifiedAdam(learning_rate, beta_1, beta_2, epsilon, weight_decay, amsgrad, sma_threshold, total_steps, warmup_proportion, min_lr, name)\n",
    "#     optim = tfa.optimizers.Lookahead(inner, sync_period, slow_step_size, name)\n",
    "#     return optim"
   ]
  },
  {
   "cell_type": "code",
   "execution_count": 23,
   "id": "b018e3b2",
   "metadata": {},
   "outputs": [
    {
     "name": "stdout",
     "output_type": "stream",
     "text": [
      "Package                      Version\n",
      "---------------------------- -------------------\n",
      "absl-py                      1.0.0\n",
      "aiohttp                      3.8.1\n",
      "aiosignal                    1.2.0\n",
      "antialiased-cnns             0.3\n",
      "anyio                        3.5.0\n",
      "argon2-cffi                  20.1.0\n",
      "arrow                        1.2.2\n",
      "asciitree                    0.3.3\n",
      "astor                        0.8.1\n",
      "astunparse                   1.6.3\n",
      "async-generator              1.10\n",
      "async-timeout                4.0.2\n",
      "attrs                        21.4.0\n",
      "Babel                        2.9.1\n",
      "backcall                     0.2.0\n",
      "bleach                       4.1.0\n",
      "blinker                      1.4\n",
      "blis                         0.7.5\n",
      "bng-latlon                   1.0.3\n",
      "bokeh                        2.4.2\n",
      "Bottleneck                   1.3.2\n",
      "brotlipy                     0.7.0\n",
      "cachetools                   4.2.4\n",
      "Cartopy                      0.18.0\n",
      "catalogue                    2.0.6\n",
      "certifi                      2021.10.8\n",
      "cffi                         1.15.0\n",
      "cftime                       1.5.1.1\n",
      "chardet                      4.0.0\n",
      "charset-normalizer           2.0.11\n",
      "click                        8.0.3\n",
      "cloudpickle                  2.0.0\n",
      "colorama                     0.4.4\n",
      "cryptography                 36.0.1\n",
      "cycler                       0.11.0\n",
      "cymem                        2.0.6\n",
      "Cython                       0.29.28\n",
      "cytoolz                      0.11.0\n",
      "dask                         2021.10.0\n",
      "dataclasses                  0.6\n",
      "debugpy                      1.5.1\n",
      "decorator                    5.1.1\n",
      "defusedxml                   0.7.1\n",
      "dgmr                         1.2.14\n",
      "distributed                  2021.10.0\n",
      "einops                       0.4.0\n",
      "entrypoints                  0.3\n",
      "ephem                        4.1.2\n",
      "fastai                       2.5.3\n",
      "fastcore                     1.3.29\n",
      "fastdownload                 0.0.5"
     ]
    },
    {
     "name": "stderr",
     "output_type": "stream",
     "text": [
      "WARNING: You are using pip version 22.0.3; however, version 22.0.4 is available.\n",
      "You should consider upgrading via the 'C:\\Users\\james\\anaconda3\\envs\\climatehack\\python.exe -m pip install --upgrade pip' command.\n"
     ]
    },
    {
     "name": "stdout",
     "output_type": "stream",
     "text": [
      "\n",
      "fasteners                    0.17.3\n",
      "fastprogress                 1.0.2\n",
      "filelock                     3.4.2\n",
      "Flask                        2.0.2\n",
      "flatbuffers                  2.0\n",
      "fonttools                    4.25.0\n",
      "frozenlist                   1.3.0\n",
      "fsspec                       2022.1.0\n",
      "future                       0.18.2\n",
      "gast                         0.5.3\n",
      "gcsfs                        2022.1.0\n",
      "geos                         0.2.3\n",
      "google-api-core              2.4.0\n",
      "google-auth                  2.6.0\n",
      "google-auth-oauthlib         0.4.6\n",
      "google-cloud-core            2.2.2\n",
      "google-cloud-storage         2.0.0\n",
      "google-crc32c                1.1.2\n",
      "google-pasta                 0.2.0\n",
      "google-resumable-media       2.1.0\n",
      "googleapis-common-protos     1.54.0\n",
      "grpcio                       1.42.0\n",
      "h5py                         3.6.0\n",
      "HeapDict                     1.0.1\n",
      "huggingface-hub              0.4.0\n",
      "idna                         3.3\n",
      "importlib-metadata           4.8.2\n",
      "ipykernel                    6.4.1\n",
      "ipython                      7.31.1\n",
      "ipython-genutils             0.2.0\n",
      "itsdangerous                 2.0.1\n",
      "jedi                         0.18.1\n",
      "Jinja2                       3.0.3\n",
      "joblib                       1.1.0\n",
      "json5                        0.9.6\n",
      "jsonschema                   3.2.0\n",
      "jupyter-client               7.1.2\n",
      "jupyter-core                 4.9.1\n",
      "jupyter-server               1.13.5\n",
      "jupyterlab                   3.2.9\n",
      "jupyterlab-pygments          0.1.2\n",
      "jupyterlab-server            2.10.3\n",
      "keras                        2.8.0\n",
      "Keras-Applications           1.0.8\n",
      "Keras-Preprocessing          1.1.2\n",
      "keras-rl2                    1.0.5\n",
      "kiwisolver                   1.3.1\n",
      "langcodes                    3.3.0\n",
      "libclang                     13.0.0\n",
      "llvmlite                     0.37.0\n",
      "locket                       0.2.1\n",
      "lxml                         4.7.1\n",
      "Markdown                     3.3.6\n",
      "MarkupSafe                   2.0.1\n",
      "matplotlib                   3.5.0\n",
      "matplotlib-inline            0.1.2\n",
      "mistune                      0.8.4\n",
      "mkl-fft                      1.3.1\n",
      "mkl-random                   1.2.2\n",
      "mkl-service                  2.4.0\n",
      "msgpack                      1.0.2\n",
      "multidict                    6.0.2\n",
      "munkres                      1.1.4\n",
      "murmurhash                   1.0.6\n",
      "nbclassic                    0.3.5\n",
      "nbclient                     0.5.3\n",
      "nbconvert                    6.1.0\n",
      "nbformat                     5.1.3\n",
      "nest-asyncio                 1.5.1\n",
      "netCDF4                      1.5.7\n",
      "NEURON                       7.8\n",
      "nose                         1.3.7\n",
      "notebook                     6.4.6\n",
      "numba                        0.54.1\n",
      "numcodecs                    0.9.1\n",
      "numexpr                      2.8.1\n",
      "numpy                        1.22.2\n",
      "oauthlib                     3.2.0\n",
      "olefile                      0.46\n",
      "opencv-python                4.5.5.62\n",
      "opt-einsum                   3.3.0\n",
      "os-grid-reference            0.4.0\n",
      "OSGridConverter              0.1.3\n",
      "packaging                    21.3\n",
      "pandas                       1.3.5\n",
      "pandocfilters                1.5.0\n",
      "parso                        0.8.3\n",
      "partd                        1.2.0\n",
      "pathy                        0.6.1\n",
      "patsy                        0.5.2\n",
      "pickleshare                  0.7.5\n",
      "Pillow                       8.4.0\n",
      "pip                          22.0.3\n",
      "preshed                      3.0.6\n",
      "proj                         0.2.0\n",
      "prometheus-client            0.13.1\n",
      "prompt-toolkit               3.0.20\n",
      "protobuf                     3.19.1\n",
      "psutil                       5.8.0\n",
      "pvlib                        0.9.0\n",
      "pyasn1                       0.4.8\n",
      "pyasn1-modules               0.2.7\n",
      "pycparser                    2.21\n",
      "pydantic                     1.8.2\n",
      "pyDeprecate                  0.3.1\n",
      "Pygments                     2.11.2\n",
      "PyJWT                        2.3.0\n",
      "pyOpenSSL                    22.0.0\n",
      "pyparsing                    3.0.4\n",
      "pyproj                       3.3.0\n",
      "pyreadline                   2.1\n",
      "pyrsistent                   0.18.0\n",
      "pyshp                        2.2.0\n",
      "PySocks                      1.7.1\n",
      "python-dateutil              2.8.2\n",
      "pytorch-lightning            1.5.10\n",
      "pytorch-msssim               0.2.1\n",
      "pytz                         2021.3\n",
      "pyu2f                        0.1.5\n",
      "pywin32                      302\n",
      "pywinpty                     2.0.2\n",
      "PyYAML                       6.0\n",
      "pyzmq                        22.3.0\n",
      "ranger                       0.10\n",
      "requests                     2.27.1\n",
      "requests-oauthlib            1.3.1\n",
      "rsa                          4.8\n",
      "scikit-learn                 1.0.2\n",
      "scipy                        1.7.3\n",
      "Send2Trash                   1.8.0\n",
      "setuptools                   60.9.3\n",
      "Shapely                      1.8.0\n",
      "sip                          4.19.13\n",
      "six                          1.16.0\n",
      "smart-open                   5.2.1\n",
      "sniffio                      1.2.0\n",
      "sortedcontainers             2.4.0\n",
      "spacy                        3.2.2\n",
      "spacy-legacy                 3.0.9\n",
      "spacy-loggers                1.0.1\n",
      "srsly                        2.4.2\n",
      "statsmodels                  0.12.2\n",
      "tblib                        1.7.0\n",
      "tensorboard                  2.8.0\n",
      "tensorboard-data-server      0.6.1\n",
      "tensorboard-plugin-wit       1.8.1\n",
      "tensorflow                   2.8.0\n",
      "tensorflow-addons            0.16.1\n",
      "tensorflow-estimator         2.8.0\n",
      "tensorflow-gpu               2.8.0\n",
      "tensorflow-io-gcs-filesystem 0.24.0\n",
      "termcolor                    1.1.0\n",
      "terminado                    0.9.4\n",
      "testpath                     0.5.0\n",
      "tf-estimator-nightly         2.8.0.dev2021122109\n",
      "thinc                        8.0.13\n",
      "threadpoolctl                3.1.0\n",
      "toolz                        0.11.2\n",
      "torch                        1.10.2\n",
      "torchaudio                   0.10.2\n",
      "torchmetrics                 0.7.1\n",
      "torchvision                  0.11.3\n",
      "tornado                      6.1\n",
      "tqdm                         4.62.3\n",
      "traitlets                    5.1.1\n",
      "typeguard                    2.13.3\n",
      "typer                        0.4.0\n",
      "typing-extensions            3.10.0.2\n",
      "urllib3                      1.26.8\n",
      "wasabi                       0.9.0\n",
      "wcwidth                      0.2.5\n",
      "webencodings                 0.5.1\n",
      "websocket-client             1.2.3\n",
      "Werkzeug                     2.0.3\n",
      "wheel                        0.37.1\n",
      "win-inet-pton                1.1.0\n",
      "wincertstore                 0.2\n",
      "wrapt                        1.13.3\n",
      "xarray                       0.21.1\n",
      "yarl                         1.7.2\n",
      "zarr                         2.11.0\n",
      "zict                         2.0.0\n",
      "zipp                         3.7.0\n"
     ]
    }
   ],
   "source": [
    "!pip list"
   ]
  },
  {
   "cell_type": "code",
   "execution_count": 3,
   "id": "93f286bf",
   "metadata": {
    "id": "830e5ace-8a6c-402d-95e8-0ea1d68222b2"
   },
   "outputs": [],
   "source": [
    "# SATELLITE_ZARR_PATH = \"gs://public-datasets-eumetsat-solar-forecasting/satellite/EUMETSAT/SEVIRI_RSS/v3/eumetsat_seviri_hrv_uk.zarr\"\n",
    "SATELLITE_ZARR_PATH = \"eumetsat_seviri_hrv_uk.zarr\"\n",
    "dataset = xr.open_dataset(\n",
    "    SATELLITE_ZARR_PATH, \n",
    "    engine=\"zarr\",\n",
    "    chunks={},  # Load the data as a Dask array\n",
    ")"
   ]
  },
  {
   "cell_type": "code",
   "execution_count": 10,
   "id": "465423ed",
   "metadata": {},
   "outputs": [],
   "source": [
    "BATCH_SIZE = 8\n",
    "EPOCHS = 8\n",
    "\n",
    "ch_dataset = ClimateHackDataset(dataset, crops_per_slice=2)\n",
    "ch_dataloader = DataLoader(ch_dataset, batch_size=BATCH_SIZE)\n",
    "dataloader = DataGenerator(ch_dataloader, 2) # ncl represents the number of classes for the model"
   ]
  },
  {
   "cell_type": "code",
   "execution_count": 11,
   "id": "3374cb3b",
   "metadata": {},
   "outputs": [],
   "source": [
    "def msssim_loss(y_true, y_pred):\n",
    "    msssim= 1-tf.reduce_mean(tf.image.ssim_multiscale(y_true, y_pred, max_val=1023, power_factors=(0.0448, 0.2856, 0.3001, 0.2363, 0.1333), filter_size=2, filter_sigma=1.5, k1=0.03, k2=0.09))\n",
    "#     mse= tf.keras.losses.mse(y_true, y_pred) #, 0.1333 is last 2 power filter\n",
    "#     avgloss= (mse + msssim)/2\n",
    "    return msssim"
   ]
  },
  {
   "cell_type": "code",
   "execution_count": 12,
   "id": "21682e06",
   "metadata": {},
   "outputs": [],
   "source": [
    "# device = \"cuda\" if pt.cuda.is_available() else \"cpu\"\n",
    "# kwargs = {'num_workers': 1, 'pin_memory': True} if device=='cuda' else {}\n",
    "\n",
    "inp = layers.Input(shape=(None, *(64,64,1)))  ##64,64,1 ; 96 96 1\n",
    "\n",
    "x = layers.ConvLSTM2D(filters=64,\n",
    "    kernel_size=(5, 5), padding=\"same\", return_sequences=True, activation=\"relu\",)(inp)\n",
    "x = layers.BatchNormalization()(x)\n",
    "x = layers.ConvLSTM2D(filters=64,\n",
    "    kernel_size=(3, 3), padding=\"same\", return_sequences=True, activation=\"relu\",)(x)\n",
    "x = layers.BatchNormalization()(x)\n",
    "x = layers.ConvLSTM2D(filters=64, \n",
    "    kernel_size=(1, 1), padding=\"same\", return_sequences=True, activation=\"relu\",)(x)\n",
    "\n",
    "x = layers.Conv3D(filters=1, \n",
    "    kernel_size=(3, 3, 3), activation=\"sigmoid\", padding=\"same\")(x)*1023\n",
    "## originally 3,3,3\n",
    "#try images of 70 x70?\n",
    "\n",
    "\n",
    "model = keras.models.Model(inp, x)  #inp is input, x is output\n",
    "#optimizer = Ranger()\n",
    "model.compile(loss=msssim_loss, optimizer = 'adam')#msssim_loss   tf.keras.losses.mse"
   ]
  },
  {
   "cell_type": "code",
   "execution_count": 13,
   "id": "4279303b",
   "metadata": {},
   "outputs": [
    {
     "name": "stdout",
     "output_type": "stream",
     "text": [
      "Epoch 1/4\n",
      "1000/1000 [==============================] - 21903s 22s/step - loss: 0.0263\n",
      "Epoch 2/4\n",
      " 489/1000 [=============>................] - ETA: 3:19:00 - loss: 0.0256"
     ]
    },
    {
     "ename": "KeyboardInterrupt",
     "evalue": "",
     "output_type": "error",
     "traceback": [
      "\u001b[1;31m---------------------------------------------------------------------------\u001b[0m",
      "\u001b[1;31mKeyboardInterrupt\u001b[0m                         Traceback (most recent call last)",
      "\u001b[1;32m~\\AppData\\Local\\Temp/ipykernel_25772/2080595276.py\u001b[0m in \u001b[0;36m<module>\u001b[1;34m\u001b[0m\n\u001b[1;32m----> 1\u001b[1;33m \u001b[0mmodel\u001b[0m\u001b[1;33m.\u001b[0m\u001b[0mfit\u001b[0m\u001b[1;33m(\u001b[0m\u001b[0mdataloader\u001b[0m\u001b[1;33m,\u001b[0m \u001b[0mepochs\u001b[0m\u001b[1;33m=\u001b[0m\u001b[0mEPOCHS\u001b[0m\u001b[1;33m)\u001b[0m\u001b[1;33m\u001b[0m\u001b[1;33m\u001b[0m\u001b[0m\n\u001b[0m\u001b[0;32m      2\u001b[0m \u001b[0mmodel\u001b[0m\u001b[1;33m.\u001b[0m\u001b[0msave\u001b[0m\u001b[1;33m(\u001b[0m\u001b[1;34m'submission/saved_model/my_model'\u001b[0m\u001b[1;33m)\u001b[0m\u001b[1;33m\u001b[0m\u001b[1;33m\u001b[0m\u001b[0m\n",
      "\u001b[1;32m~\\AppData\\Roaming\\Python\\Python39\\site-packages\\keras\\utils\\traceback_utils.py\u001b[0m in \u001b[0;36merror_handler\u001b[1;34m(*args, **kwargs)\u001b[0m\n\u001b[0;32m     62\u001b[0m     \u001b[0mfiltered_tb\u001b[0m \u001b[1;33m=\u001b[0m \u001b[1;32mNone\u001b[0m\u001b[1;33m\u001b[0m\u001b[1;33m\u001b[0m\u001b[0m\n\u001b[0;32m     63\u001b[0m     \u001b[1;32mtry\u001b[0m\u001b[1;33m:\u001b[0m\u001b[1;33m\u001b[0m\u001b[1;33m\u001b[0m\u001b[0m\n\u001b[1;32m---> 64\u001b[1;33m       \u001b[1;32mreturn\u001b[0m \u001b[0mfn\u001b[0m\u001b[1;33m(\u001b[0m\u001b[1;33m*\u001b[0m\u001b[0margs\u001b[0m\u001b[1;33m,\u001b[0m \u001b[1;33m**\u001b[0m\u001b[0mkwargs\u001b[0m\u001b[1;33m)\u001b[0m\u001b[1;33m\u001b[0m\u001b[1;33m\u001b[0m\u001b[0m\n\u001b[0m\u001b[0;32m     65\u001b[0m     \u001b[1;32mexcept\u001b[0m \u001b[0mException\u001b[0m \u001b[1;32mas\u001b[0m \u001b[0me\u001b[0m\u001b[1;33m:\u001b[0m  \u001b[1;31m# pylint: disable=broad-except\u001b[0m\u001b[1;33m\u001b[0m\u001b[1;33m\u001b[0m\u001b[0m\n\u001b[0;32m     66\u001b[0m       \u001b[0mfiltered_tb\u001b[0m \u001b[1;33m=\u001b[0m \u001b[0m_process_traceback_frames\u001b[0m\u001b[1;33m(\u001b[0m\u001b[0me\u001b[0m\u001b[1;33m.\u001b[0m\u001b[0m__traceback__\u001b[0m\u001b[1;33m)\u001b[0m\u001b[1;33m\u001b[0m\u001b[1;33m\u001b[0m\u001b[0m\n",
      "\u001b[1;32m~\\AppData\\Roaming\\Python\\Python39\\site-packages\\keras\\engine\\training.py\u001b[0m in \u001b[0;36mfit\u001b[1;34m(self, x, y, batch_size, epochs, verbose, callbacks, validation_split, validation_data, shuffle, class_weight, sample_weight, initial_epoch, steps_per_epoch, validation_steps, validation_batch_size, validation_freq, max_queue_size, workers, use_multiprocessing)\u001b[0m\n\u001b[0;32m   1382\u001b[0m                 _r=1):\n\u001b[0;32m   1383\u001b[0m               \u001b[0mcallbacks\u001b[0m\u001b[1;33m.\u001b[0m\u001b[0mon_train_batch_begin\u001b[0m\u001b[1;33m(\u001b[0m\u001b[0mstep\u001b[0m\u001b[1;33m)\u001b[0m\u001b[1;33m\u001b[0m\u001b[1;33m\u001b[0m\u001b[0m\n\u001b[1;32m-> 1384\u001b[1;33m               \u001b[0mtmp_logs\u001b[0m \u001b[1;33m=\u001b[0m \u001b[0mself\u001b[0m\u001b[1;33m.\u001b[0m\u001b[0mtrain_function\u001b[0m\u001b[1;33m(\u001b[0m\u001b[0miterator\u001b[0m\u001b[1;33m)\u001b[0m\u001b[1;33m\u001b[0m\u001b[1;33m\u001b[0m\u001b[0m\n\u001b[0m\u001b[0;32m   1385\u001b[0m               \u001b[1;32mif\u001b[0m \u001b[0mdata_handler\u001b[0m\u001b[1;33m.\u001b[0m\u001b[0mshould_sync\u001b[0m\u001b[1;33m:\u001b[0m\u001b[1;33m\u001b[0m\u001b[1;33m\u001b[0m\u001b[0m\n\u001b[0;32m   1386\u001b[0m                 \u001b[0mcontext\u001b[0m\u001b[1;33m.\u001b[0m\u001b[0masync_wait\u001b[0m\u001b[1;33m(\u001b[0m\u001b[1;33m)\u001b[0m\u001b[1;33m\u001b[0m\u001b[1;33m\u001b[0m\u001b[0m\n",
      "\u001b[1;32m~\\AppData\\Roaming\\Python\\Python39\\site-packages\\tensorflow\\python\\util\\traceback_utils.py\u001b[0m in \u001b[0;36merror_handler\u001b[1;34m(*args, **kwargs)\u001b[0m\n\u001b[0;32m    148\u001b[0m     \u001b[0mfiltered_tb\u001b[0m \u001b[1;33m=\u001b[0m \u001b[1;32mNone\u001b[0m\u001b[1;33m\u001b[0m\u001b[1;33m\u001b[0m\u001b[0m\n\u001b[0;32m    149\u001b[0m     \u001b[1;32mtry\u001b[0m\u001b[1;33m:\u001b[0m\u001b[1;33m\u001b[0m\u001b[1;33m\u001b[0m\u001b[0m\n\u001b[1;32m--> 150\u001b[1;33m       \u001b[1;32mreturn\u001b[0m \u001b[0mfn\u001b[0m\u001b[1;33m(\u001b[0m\u001b[1;33m*\u001b[0m\u001b[0margs\u001b[0m\u001b[1;33m,\u001b[0m \u001b[1;33m**\u001b[0m\u001b[0mkwargs\u001b[0m\u001b[1;33m)\u001b[0m\u001b[1;33m\u001b[0m\u001b[1;33m\u001b[0m\u001b[0m\n\u001b[0m\u001b[0;32m    151\u001b[0m     \u001b[1;32mexcept\u001b[0m \u001b[0mException\u001b[0m \u001b[1;32mas\u001b[0m \u001b[0me\u001b[0m\u001b[1;33m:\u001b[0m\u001b[1;33m\u001b[0m\u001b[1;33m\u001b[0m\u001b[0m\n\u001b[0;32m    152\u001b[0m       \u001b[0mfiltered_tb\u001b[0m \u001b[1;33m=\u001b[0m \u001b[0m_process_traceback_frames\u001b[0m\u001b[1;33m(\u001b[0m\u001b[0me\u001b[0m\u001b[1;33m.\u001b[0m\u001b[0m__traceback__\u001b[0m\u001b[1;33m)\u001b[0m\u001b[1;33m\u001b[0m\u001b[1;33m\u001b[0m\u001b[0m\n",
      "\u001b[1;32m~\\AppData\\Roaming\\Python\\Python39\\site-packages\\tensorflow\\python\\eager\\def_function.py\u001b[0m in \u001b[0;36m__call__\u001b[1;34m(self, *args, **kwds)\u001b[0m\n\u001b[0;32m    913\u001b[0m \u001b[1;33m\u001b[0m\u001b[0m\n\u001b[0;32m    914\u001b[0m       \u001b[1;32mwith\u001b[0m \u001b[0mOptionalXlaContext\u001b[0m\u001b[1;33m(\u001b[0m\u001b[0mself\u001b[0m\u001b[1;33m.\u001b[0m\u001b[0m_jit_compile\u001b[0m\u001b[1;33m)\u001b[0m\u001b[1;33m:\u001b[0m\u001b[1;33m\u001b[0m\u001b[1;33m\u001b[0m\u001b[0m\n\u001b[1;32m--> 915\u001b[1;33m         \u001b[0mresult\u001b[0m \u001b[1;33m=\u001b[0m \u001b[0mself\u001b[0m\u001b[1;33m.\u001b[0m\u001b[0m_call\u001b[0m\u001b[1;33m(\u001b[0m\u001b[1;33m*\u001b[0m\u001b[0margs\u001b[0m\u001b[1;33m,\u001b[0m \u001b[1;33m**\u001b[0m\u001b[0mkwds\u001b[0m\u001b[1;33m)\u001b[0m\u001b[1;33m\u001b[0m\u001b[1;33m\u001b[0m\u001b[0m\n\u001b[0m\u001b[0;32m    916\u001b[0m \u001b[1;33m\u001b[0m\u001b[0m\n\u001b[0;32m    917\u001b[0m       \u001b[0mnew_tracing_count\u001b[0m \u001b[1;33m=\u001b[0m \u001b[0mself\u001b[0m\u001b[1;33m.\u001b[0m\u001b[0mexperimental_get_tracing_count\u001b[0m\u001b[1;33m(\u001b[0m\u001b[1;33m)\u001b[0m\u001b[1;33m\u001b[0m\u001b[1;33m\u001b[0m\u001b[0m\n",
      "\u001b[1;32m~\\AppData\\Roaming\\Python\\Python39\\site-packages\\tensorflow\\python\\eager\\def_function.py\u001b[0m in \u001b[0;36m_call\u001b[1;34m(self, *args, **kwds)\u001b[0m\n\u001b[0;32m    945\u001b[0m       \u001b[1;31m# In this case we have created variables on the first call, so we run the\u001b[0m\u001b[1;33m\u001b[0m\u001b[1;33m\u001b[0m\u001b[0m\n\u001b[0;32m    946\u001b[0m       \u001b[1;31m# defunned version which is guaranteed to never create variables.\u001b[0m\u001b[1;33m\u001b[0m\u001b[1;33m\u001b[0m\u001b[0m\n\u001b[1;32m--> 947\u001b[1;33m       \u001b[1;32mreturn\u001b[0m \u001b[0mself\u001b[0m\u001b[1;33m.\u001b[0m\u001b[0m_stateless_fn\u001b[0m\u001b[1;33m(\u001b[0m\u001b[1;33m*\u001b[0m\u001b[0margs\u001b[0m\u001b[1;33m,\u001b[0m \u001b[1;33m**\u001b[0m\u001b[0mkwds\u001b[0m\u001b[1;33m)\u001b[0m  \u001b[1;31m# pylint: disable=not-callable\u001b[0m\u001b[1;33m\u001b[0m\u001b[1;33m\u001b[0m\u001b[0m\n\u001b[0m\u001b[0;32m    948\u001b[0m     \u001b[1;32melif\u001b[0m \u001b[0mself\u001b[0m\u001b[1;33m.\u001b[0m\u001b[0m_stateful_fn\u001b[0m \u001b[1;32mis\u001b[0m \u001b[1;32mnot\u001b[0m \u001b[1;32mNone\u001b[0m\u001b[1;33m:\u001b[0m\u001b[1;33m\u001b[0m\u001b[1;33m\u001b[0m\u001b[0m\n\u001b[0;32m    949\u001b[0m       \u001b[1;31m# Release the lock early so that multiple threads can perform the call\u001b[0m\u001b[1;33m\u001b[0m\u001b[1;33m\u001b[0m\u001b[0m\n",
      "\u001b[1;32m~\\AppData\\Roaming\\Python\\Python39\\site-packages\\tensorflow\\python\\eager\\function.py\u001b[0m in \u001b[0;36m__call__\u001b[1;34m(self, *args, **kwargs)\u001b[0m\n\u001b[0;32m   2954\u001b[0m       (graph_function,\n\u001b[0;32m   2955\u001b[0m        filtered_flat_args) = self._maybe_define_function(args, kwargs)\n\u001b[1;32m-> 2956\u001b[1;33m     return graph_function._call_flat(\n\u001b[0m\u001b[0;32m   2957\u001b[0m         filtered_flat_args, captured_inputs=graph_function.captured_inputs)  # pylint: disable=protected-access\n\u001b[0;32m   2958\u001b[0m \u001b[1;33m\u001b[0m\u001b[0m\n",
      "\u001b[1;32m~\\AppData\\Roaming\\Python\\Python39\\site-packages\\tensorflow\\python\\eager\\function.py\u001b[0m in \u001b[0;36m_call_flat\u001b[1;34m(self, args, captured_inputs, cancellation_manager)\u001b[0m\n\u001b[0;32m   1851\u001b[0m         and executing_eagerly):\n\u001b[0;32m   1852\u001b[0m       \u001b[1;31m# No tape is watching; skip to running the function.\u001b[0m\u001b[1;33m\u001b[0m\u001b[1;33m\u001b[0m\u001b[0m\n\u001b[1;32m-> 1853\u001b[1;33m       return self._build_call_outputs(self._inference_function.call(\n\u001b[0m\u001b[0;32m   1854\u001b[0m           ctx, args, cancellation_manager=cancellation_manager))\n\u001b[0;32m   1855\u001b[0m     forward_backward = self._select_forward_and_backward_functions(\n",
      "\u001b[1;32m~\\AppData\\Roaming\\Python\\Python39\\site-packages\\tensorflow\\python\\eager\\function.py\u001b[0m in \u001b[0;36mcall\u001b[1;34m(self, ctx, args, cancellation_manager)\u001b[0m\n\u001b[0;32m    497\u001b[0m       \u001b[1;32mwith\u001b[0m \u001b[0m_InterpolateFunctionError\u001b[0m\u001b[1;33m(\u001b[0m\u001b[0mself\u001b[0m\u001b[1;33m)\u001b[0m\u001b[1;33m:\u001b[0m\u001b[1;33m\u001b[0m\u001b[1;33m\u001b[0m\u001b[0m\n\u001b[0;32m    498\u001b[0m         \u001b[1;32mif\u001b[0m \u001b[0mcancellation_manager\u001b[0m \u001b[1;32mis\u001b[0m \u001b[1;32mNone\u001b[0m\u001b[1;33m:\u001b[0m\u001b[1;33m\u001b[0m\u001b[1;33m\u001b[0m\u001b[0m\n\u001b[1;32m--> 499\u001b[1;33m           outputs = execute.execute(\n\u001b[0m\u001b[0;32m    500\u001b[0m               \u001b[0mstr\u001b[0m\u001b[1;33m(\u001b[0m\u001b[0mself\u001b[0m\u001b[1;33m.\u001b[0m\u001b[0msignature\u001b[0m\u001b[1;33m.\u001b[0m\u001b[0mname\u001b[0m\u001b[1;33m)\u001b[0m\u001b[1;33m,\u001b[0m\u001b[1;33m\u001b[0m\u001b[1;33m\u001b[0m\u001b[0m\n\u001b[0;32m    501\u001b[0m               \u001b[0mnum_outputs\u001b[0m\u001b[1;33m=\u001b[0m\u001b[0mself\u001b[0m\u001b[1;33m.\u001b[0m\u001b[0m_num_outputs\u001b[0m\u001b[1;33m,\u001b[0m\u001b[1;33m\u001b[0m\u001b[1;33m\u001b[0m\u001b[0m\n",
      "\u001b[1;32m~\\AppData\\Roaming\\Python\\Python39\\site-packages\\tensorflow\\python\\eager\\execute.py\u001b[0m in \u001b[0;36mquick_execute\u001b[1;34m(op_name, num_outputs, inputs, attrs, ctx, name)\u001b[0m\n\u001b[0;32m     52\u001b[0m   \u001b[1;32mtry\u001b[0m\u001b[1;33m:\u001b[0m\u001b[1;33m\u001b[0m\u001b[1;33m\u001b[0m\u001b[0m\n\u001b[0;32m     53\u001b[0m     \u001b[0mctx\u001b[0m\u001b[1;33m.\u001b[0m\u001b[0mensure_initialized\u001b[0m\u001b[1;33m(\u001b[0m\u001b[1;33m)\u001b[0m\u001b[1;33m\u001b[0m\u001b[1;33m\u001b[0m\u001b[0m\n\u001b[1;32m---> 54\u001b[1;33m     tensors = pywrap_tfe.TFE_Py_Execute(ctx._handle, device_name, op_name,\n\u001b[0m\u001b[0;32m     55\u001b[0m                                         inputs, attrs, num_outputs)\n\u001b[0;32m     56\u001b[0m   \u001b[1;32mexcept\u001b[0m \u001b[0mcore\u001b[0m\u001b[1;33m.\u001b[0m\u001b[0m_NotOkStatusException\u001b[0m \u001b[1;32mas\u001b[0m \u001b[0me\u001b[0m\u001b[1;33m:\u001b[0m\u001b[1;33m\u001b[0m\u001b[1;33m\u001b[0m\u001b[0m\n",
      "\u001b[1;31mKeyboardInterrupt\u001b[0m: "
     ]
    }
   ],
   "source": [
    "model.fit(dataloader, epochs=EPOCHS)\n",
    "model.save('submission/saved_model/my_model')"
   ]
  },
  {
   "cell_type": "code",
   "execution_count": 14,
   "id": "1c3d25e9",
   "metadata": {},
   "outputs": [
    {
     "name": "stdout",
     "output_type": "stream",
     "text": [
      "INFO:tensorflow:Assets written to: submission/saved_model/my_model\\assets\n"
     ]
    }
   ],
   "source": [
    "model.save('submission/saved_model/my_model')"
   ]
  },
  {
   "cell_type": "code",
   "execution_count": 15,
   "id": "b8c168ea",
   "metadata": {},
   "outputs": [
    {
     "name": "stdout",
     "output_type": "stream",
     "text": [
      "Model: \"model_1\"\n",
      "_________________________________________________________________\n",
      " Layer (type)                Output Shape              Param #   \n",
      "=================================================================\n",
      " input_3 (InputLayer)        [(None, None, 64, 64, 1)  0         \n",
      "                             ]                                   \n",
      "                                                                 \n",
      " conv_lstm2d_3 (ConvLSTM2D)  (None, None, 64, 64, 64)  416256    \n",
      "                                                                 \n",
      " batch_normalization_2 (Batc  (None, None, 64, 64, 64)  256      \n",
      " hNormalization)                                                 \n",
      "                                                                 \n",
      " conv_lstm2d_4 (ConvLSTM2D)  (None, None, 64, 64, 64)  295168    \n",
      "                                                                 \n",
      " batch_normalization_3 (Batc  (None, None, 64, 64, 64)  256      \n",
      " hNormalization)                                                 \n",
      "                                                                 \n",
      " conv_lstm2d_5 (ConvLSTM2D)  (None, None, 64, 64, 64)  33024     \n",
      "                                                                 \n",
      " conv3d_1 (Conv3D)           (None, None, 64, 64, 1)   1729      \n",
      "                                                                 \n",
      " tf.math.multiply_1 (TFOpLam  (None, None, 64, 64, 1)  0         \n",
      " bda)                                                            \n",
      "                                                                 \n",
      "=================================================================\n",
      "Total params: 746,689\n",
      "Trainable params: 746,433\n",
      "Non-trainable params: 256\n",
      "_________________________________________________________________\n"
     ]
    }
   ],
   "source": [
    "model.summary()"
   ]
  },
  {
   "cell_type": "markdown",
   "id": "3f835814",
   "metadata": {},
   "source": [
    "python doxa_cli.py user login\n",
    "python doxa_cli.py agent upload climatehack ./submission"
   ]
  },
  {
   "cell_type": "markdown",
   "id": "7e9a39df",
   "metadata": {},
   "source": [
    "Get Iteration"
   ]
  },
  {
   "cell_type": "code",
   "execution_count": 16,
   "id": "71866aab",
   "metadata": {},
   "outputs": [],
   "source": [
    "coor, feat, label = next(iter(ch_dataloader))"
   ]
  },
  {
   "cell_type": "code",
   "execution_count": 17,
   "id": "96a9ece0",
   "metadata": {},
   "outputs": [
    {
     "name": "stdout",
     "output_type": "stream",
     "text": [
      "torch.Size([8, 1, 64, 64])\n",
      "(8, 64, 64, 1)\n",
      "(1, 8, 64, 64, 1)\n",
      "(8, 64, 64, 1)\n",
      "(8, 1, 64, 64, 1)\n",
      "[[[125.]\n",
      "  [120.]\n",
      "  [114.]\n",
      "  ...\n",
      "  [136.]\n",
      "  [135.]\n",
      "  [135.]]\n",
      "\n",
      " [[116.]\n",
      "  [109.]\n",
      "  [ 92.]\n",
      "  ...\n",
      "  [134.]\n",
      "  [134.]\n",
      "  [132.]]\n",
      "\n",
      " [[ 89.]\n",
      "  [ 84.]\n",
      "  [ 77.]\n",
      "  ...\n",
      "  [134.]\n",
      "  [134.]\n",
      "  [128.]]\n",
      "\n",
      " ...\n",
      "\n",
      " [[124.]\n",
      "  [117.]\n",
      "  [114.]\n",
      "  ...\n",
      "  [121.]\n",
      "  [123.]\n",
      "  [124.]]\n",
      "\n",
      " [[120.]\n",
      "  [116.]\n",
      "  [109.]\n",
      "  ...\n",
      "  [123.]\n",
      "  [120.]\n",
      "  [121.]]\n",
      "\n",
      " [[116.]\n",
      "  [110.]\n",
      "  [100.]\n",
      "  ...\n",
      "  [121.]\n",
      "  [121.]\n",
      "  [123.]]]\n"
     ]
    },
    {
     "data": {
      "text/plain": [
       "<matplotlib.image.AxesImage at 0x244a1177a90>"
      ]
     },
     "execution_count": 17,
     "metadata": {},
     "output_type": "execute_result"
    },
    {
     "data": {
      "image/png": "[encoded data removed]",
      "text/plain": [
       "<Figure size 432x288 with 1 Axes>"
      ]
     },
     "metadata": {
      "needs_background": "light"
     },
     "output_type": "display_data"
    }
   ],
   "source": [
    "# Loading sample image\n",
    "print(feat.size())\n",
    "\n",
    "features = feat.permute(0, 2, 3, 1).numpy()\n",
    "print(features.shape)\n",
    "features = np.expand_dims(features, 0) \n",
    "print(features.shape)\n",
    "Images = features[0, :, :, :, :]\n",
    "print(Images.shape)\n",
    "# X = tf.image.resize_with_crop_or_pad(Images, 64, 64)\n",
    "features = np.expand_dims(Images, 1) \n",
    "\n",
    "print(features.shape)\n",
    "print(features[0][0])\n",
    "plt.imshow(features[0][0])"
   ]
  },
  {
   "cell_type": "code",
   "execution_count": 18,
   "id": "d5ca4126",
   "metadata": {},
   "outputs": [],
   "source": [
    "model = tf.keras.models.load_model('submission/saved_model/my_model', compile=False)"
   ]
  },
  {
   "cell_type": "code",
   "execution_count": 21,
   "id": "ad0494b7",
   "metadata": {},
   "outputs": [
    {
     "name": "stdout",
     "output_type": "stream",
     "text": [
      "(8, 1, 64, 64, 1)\n"
     ]
    },
    {
     "data": {
      "text/plain": [
       "<matplotlib.image.AxesImage at 0x244fb13eb50>"
      ]
     },
     "execution_count": 21,
     "metadata": {},
     "output_type": "execute_result"
    },
    {
     "data": {
      "image/png": "[encoded data removed]",
      "text/plain": [
       "<Figure size 432x288 with 1 Axes>"
      ]
     },
     "metadata": {
      "needs_background": "light"
     },
     "output_type": "display_data"
    }
   ],
   "source": [
    "pred = model.predict(features)\n",
    "print(pred.shape)\n",
    "# print(pred[0][0])\n",
    "# pred = np.squeeze(np.squeeze(pred, axis = 0), axis = 0)\n",
    "plt.imshow(pred[1][0])"
   ]
  },
  {
   "cell_type": "code",
   "execution_count": 20,
   "id": "8c7b8c09",
   "metadata": {},
   "outputs": [
    {
     "data": {
      "text/plain": [
       "<matplotlib.image.AxesImage at 0x244fb197490>"
      ]
     },
     "execution_count": 20,
     "metadata": {},
     "output_type": "execute_result"
    },
    {
     "data": {
      "image/png": "[encoded data removed]",
      "text/plain": [
       "<Figure size 432x288 with 1 Axes>"
      ]
     },
     "metadata": {
      "needs_background": "light"
     },
     "output_type": "display_data"
    }
   ],
   "source": [
    "# print(pred[0][0]*1023)\n",
    "plt.imshow(pred[0][0]*1023)"
   ]
  },
  {
   "cell_type": "code",
   "execution_count": 22,
   "id": "8daee21b",
   "metadata": {},
   "outputs": [
    {
     "name": "stdout",
     "output_type": "stream",
     "text": [
      "tensor([[127., 114.,  96.,  ..., 136., 134., 136.],\n",
      "        [107.,  85.,  74.,  ..., 134., 134., 139.],\n",
      "        [ 82.,  76.,  78.,  ..., 134., 132., 138.],\n",
      "        ...,\n",
      "        [127., 124., 120.,  ..., 132., 131., 131.],\n",
      "        [124., 120., 113.,  ..., 129., 131., 131.],\n",
      "        [124., 112., 105.,  ..., 129., 131., 129.]])\n"
     ]
    },
    {
     "data": {
      "image/png": "[encoded data removed]",
      "text/plain": [
       "<Figure size 432x288 with 1 Axes>"
      ]
     },
     "metadata": {
      "needs_background": "light"
     },
     "output_type": "display_data"
    }
   ],
   "source": [
    "plt.imshow(label[1][0])\n",
    "print(label[0][0])"
   ]
  },
  {
   "cell_type": "markdown",
   "id": "108b45d0",
   "metadata": {},
   "source": [
    "## Submitting your model to DOXA\n",
    "\n",
    "```bash\n",
    "$ python doxa_cli.py user login\n",
    "```\n",
    "\n",
    "\n",
    "```bash\n",
    "$ python doxa_cli.py agent upload climatehack ./submission\n",
    "```"
   ]
  }
 ],
 "metadata": {
  "colab": {
   "collapsed_sections": [],
   "name": "Copy of Copy of load_and_plot_HRV_UK_Zarr_from_GCS.ipynb",
   "provenance": []
  },
  "interpreter": {
   "hash": "6f774df9e68be78be8fedc92c8cad2f0688a777ad163558f0717eecbd1f23d05"
  },
  "kernelspec": {
   "display_name": "Python 3 (ipykernel)",
   "language": "python",
   "name": "python3"
  },
  "language_info": {
   "codemirror_mode": {
    "name": "ipython",
    "version": 3
   },
   "file_extension": ".py",
   "mimetype": "text/x-python",
   "name": "python",
   "nbconvert_exporter": "python",
   "pygments_lexer": "ipython3",
   "version": "3.9.7"
  }
 },
 "nbformat": 4,
 "nbformat_minor": 5
}
