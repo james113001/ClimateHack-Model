{
 "cells": [
  {
   "cell_type": "markdown",
   "id": "d3b33bbb",
   "metadata": {},
   "source": [
    "## Importing modules"
   ]
  },
  {
   "cell_type": "code",
   "execution_count": 1,
   "id": "5a91396a",
   "metadata": {},
   "outputs": [],
   "source": [
    "##ConvLSTM\n",
    "import tensorflow as tf\n",
    "from tensorflow import keras\n",
    "import tensorflow.keras as k\n",
    "from tensorflow.keras import layers\n",
    "import matplotlib.pyplot as plt\n",
    "import xarray as xr\n",
    "import numpy as np\n",
    "from numpy import float32\n",
    "from dataset import ClimateHackDataset\n",
    "import torch.optim as optim\n",
    "from torch.utils.data import DataLoader\n",
    "import torch as pt\n",
    "import torchvision as tv\n",
    "#from loss import MS_SSIMLoss\n",
    "#from functools import partial"
   ]
  },
  {
   "cell_type": "code",
   "execution_count": 11,
   "id": "a1fca0eb",
   "metadata": {},
   "outputs": [],
   "source": [
    "class DataGenerator(k.utils.Sequence):\n",
    "    def __init__(self, gen, ncl):\n",
    "        self.gen = gen\n",
    "        self.iter = iter(gen)\n",
    "        self.ncl = ncl\n",
    "\n",
    "    def __getitem__(self, _):\n",
    "        try:\n",
    "            coordinates, features, labels = next(self.iter)\n",
    "#             for time in len(times):\n",
    "#                 res = convert_lonlat(coordinates[time][0][64], coordinates[time][1][64])\n",
    "#                 lat, lon = res[1], res[0]\n",
    "#                 solpos = solarposition.get_solarposition(current_time, lat, lon)\n",
    "#                 if 90-solpos.apparent_zenith < 10:\n",
    "#                     continue\n",
    "#                 else:\n",
    "#                     features1.append()\n",
    "        except StopIteration:\n",
    "            self.iter = iter(self.gen)\n",
    "            coordinates, features, labels = next(self.iter)\n",
    "        \n",
    "        \n",
    "        #features = np.swapaxes(np.swapaxes(features.numpy(), 1, 2), 1, 2)\n",
    "        #labels = np.eye(self.ncl)[labels].reshape(8, self.ncl)\n",
    "        #Expanding dimensions of our features and labels\n",
    "        #features = np.expand_dims(features, -1)\n",
    "        #labels = np.expand_dims(labels, -1)\n",
    "        \n",
    "        #Images = features[:, 0, :, :, :]\n",
    "        # Resizing images to 64x64\n",
    "        #X = tf.image.resize_with_crop_or_pad(Images, 64, 64)#Images[32:96, 32:96]\n",
    "        # Expanding dimensions\n",
    "        #X = np.expand_dims(X, axis = 1)\n",
    "        #X = X/1023\n",
    "        \n",
    "        return features, labels\n",
    "\n",
    "    def __len__(self):\n",
    "        return 1000 #len(list(self.gen))"
   ]
  },
  {
   "cell_type": "code",
   "execution_count": 2,
   "id": "daf98d6d",
   "metadata": {
    "id": "830e5ace-8a6c-402d-95e8-0ea1d68222b2"
   },
   "outputs": [],
   "source": [
    "SATELLITE_ZARR_PATH = \"gs://public-datasets-eumetsat-solar-forecasting/satellite/EUMETSAT/SEVIRI_RSS/v3/eumetsat_seviri_hrv_uk.zarr\"\n",
    "\n",
    "dataset = xr.open_dataset(\n",
    "    SATELLITE_ZARR_PATH, \n",
    "    engine=\"zarr\",\n",
    "    chunks={},  # Load the data as a Dask array\n",
    ")"
   ]
  },
  {
   "cell_type": "code",
   "execution_count": 3,
   "id": "1e9ba263",
   "metadata": {},
   "outputs": [],
   "source": [
    "from OSGridConverter import grid2latlong\n",
    "from os_grid_reference import ngr_encode\n",
    "from numpy import float64"
   ]
  },
  {
   "cell_type": "code",
   "execution_count": 27,
   "id": "356556e0",
   "metadata": {},
   "outputs": [
    {
     "data": {
      "text/plain": [
       "'TW5368397071'"
      ]
     },
     "execution_count": 27,
     "metadata": {},
     "output_type": "execute_result"
    }
   ],
   "source": [
    "ngr_encode.tile_1m(subset.x_osgb[10][0].values, subset.y_osgb[10][0].values)"
   ]
  },
  {
   "cell_type": "code",
   "execution_count": 63,
   "id": "30d255d6",
   "metadata": {},
   "outputs": [],
   "source": [
    "l=grid2latlong(ngr_encode.tile_1m(subset.x_osgb[1][0].values, subset.y_osgb[1][0].values))"
   ]
  },
  {
   "cell_type": "code",
   "execution_count": 65,
   "id": "7a469876",
   "metadata": {},
   "outputs": [
    {
     "name": "stdout",
     "output_type": "stream",
     "text": [
      "+50.55353:+1.62682\n"
     ]
    }
   ],
   "source": [
    "print(l)"
   ]
  },
  {
   "cell_type": "code",
   "execution_count": 7,
   "id": "220b8ccb",
   "metadata": {},
   "outputs": [],
   "source": [
    "from bng_latlon import OSGB36toWGS84"
   ]
  },
  {
   "cell_type": "code",
   "execution_count": 8,
   "id": "389671ab",
   "metadata": {},
   "outputs": [],
   "source": [
    "lat, lon = OSGB36toWGS84(subset.x_osgb[1][0].values, subset.y_osgb[1][0].values)"
   ]
  },
  {
   "cell_type": "code",
   "execution_count": 9,
   "id": "61a4437e",
   "metadata": {},
   "outputs": [
    {
     "data": {
      "text/plain": [
       "50.553527"
      ]
     },
     "execution_count": 9,
     "metadata": {},
     "output_type": "execute_result"
    }
   ],
   "source": []
  },
  {
   "cell_type": "code",
   "execution_count": 36,
   "id": "d868251a",
   "metadata": {},
   "outputs": [],
   "source": [
    "import pandas as pd\n",
    "from pvlib import solarposition"
   ]
  },
  {
   "cell_type": "code",
   "execution_count": 68,
   "id": "c68a97ae",
   "metadata": {},
   "outputs": [],
   "source": [
    "import pyproj"
   ]
  },
  {
   "cell_type": "code",
   "execution_count": 73,
   "id": "0f4718c4",
   "metadata": {},
   "outputs": [
    {
     "name": "stdout",
     "output_type": "stream",
     "text": [
      "1.6232296895558738 50.553527323190686\n"
     ]
    },
    {
     "name": "stderr",
     "output_type": "stream",
     "text": [
      "C:\\Users\\james\\anaconda3\\envs\\climatehack\\lib\\site-packages\\pyproj\\crs\\crs.py:131: FutureWarning: '+init=<authority>:<code>' syntax is deprecated. '<authority>:<code>' is the preferred initialization method. When making the change, be mindful of axis order changes: https://pyproj4.github.io/pyproj/stable/gotchas.html#axis-order-changes-in-proj-6\n",
      "  in_crs_string = _prepare_from_proj_string(in_crs_string)\n",
      "C:\\Users\\james\\anaconda3\\envs\\climatehack\\lib\\site-packages\\pyproj\\crs\\crs.py:131: FutureWarning: '+init=<authority>:<code>' syntax is deprecated. '<authority>:<code>' is the preferred initialization method. When making the change, be mindful of axis order changes: https://pyproj4.github.io/pyproj/stable/gotchas.html#axis-order-changes-in-proj-6\n",
      "  in_crs_string = _prepare_from_proj_string(in_crs_string)\n",
      "C:\\Users\\james\\AppData\\Local\\Temp/ipykernel_13764/86519252.py:4: DeprecationWarning: This function is deprecated. See: https://pyproj4.github.io/pyproj/stable/gotchas.html#upgrading-to-pyproj-2-from-pyproj-1\n",
      "  long, lat = pyproj.transform(crs_british, crs_wgs84, 656741.9, 78910.05)\n"
     ]
    }
   ],
   "source": [
    "crs_british = pyproj.Proj(init='EPSG:27700')\n",
    "crs_wgs84 = pyproj.Proj(init='EPSG:4326')\n",
    "\n",
    "long, lat = pyproj.transform(crs_british, crs_wgs84, 656741.9, 78910.05)\n",
    "print(long, lat)"
   ]
  },
  {
   "cell_type": "code",
   "execution_count": 71,
   "id": "bf20058d",
   "metadata": {},
   "outputs": [
    {
     "data": {
      "text/plain": [
       "array(78910.05, dtype=float32)"
      ]
     },
     "execution_count": 71,
     "metadata": {},
     "output_type": "execute_result"
    }
   ],
   "source": [
    "subset.y_osgb[1][0].values"
   ]
  },
  {
   "cell_type": "code",
   "execution_count": 66,
   "id": "3dd9a5ef",
   "metadata": {},
   "outputs": [
    {
     "name": "stdout",
     "output_type": "stream",
     "text": [
      "2020-01-01 00:05:00   -37.435063\n",
      "Name: apparent_elevation, dtype: float64\n",
      "2020-01-01 00:05:00   -36.125631\n",
      "Name: apparent_elevation, dtype: float64\n",
      "2020-01-01 00:05:00   -36.123955\n",
      "Name: apparent_elevation, dtype: float64\n"
     ]
    }
   ],
   "source": [
    "lat, lon = subset.y[1].values, subset.x[1].values+118.31695\n",
    "times = subset.time[0].values\n",
    "solpos = solarposition.get_solarposition(times, lat, lon)\n",
    "print(solpos.apparent_elevation)\n",
    "\n",
    "lat, lon = 1.62682, 50.55353\n",
    "solpos = solarposition.get_solarposition(times, lat, lon)\n",
    "print(solpos.apparent_elevation)\n",
    "lat, lon = 1.623205, 50.553527\n",
    "solpos = solarposition.get_solarposition(times, lat, lon)\n",
    "print(solpos.apparent_elevation)"
   ]
  },
  {
   "cell_type": "code",
   "execution_count": 4,
   "id": "58231c88",
   "metadata": {},
   "outputs": [],
   "source": [
    "data_array = dataset['data']"
   ]
  },
  {
   "cell_type": "code",
   "execution_count": 5,
   "id": "08c9f3c4",
   "metadata": {},
   "outputs": [],
   "source": [
    "from datetime import datetime\n",
    "from random import randrange"
   ]
  },
  {
   "cell_type": "code",
   "execution_count": 5,
   "id": "b0548342",
   "metadata": {},
   "outputs": [],
   "source": [
    "# rand_x = randrange(550, 950 - 128)\n",
    "# rand_y = randrange(375, 700 - 128)\n",
    "subset = (\n",
    "    # Select a time slice using 'sel' (short for 'select').\n",
    "    data_array.isel(\n",
    "            x=slice(550, 950),\n",
    "            y=slice(375, 700),\n",
    "        )\n",
    ")"
   ]
  },
  {
   "cell_type": "code",
   "execution_count": 297,
   "id": "dfcbfc19",
   "metadata": {},
   "outputs": [
    {
     "ename": "KeyError",
     "evalue": "'data'",
     "output_type": "error",
     "traceback": [
      "\u001b[1;31m---------------------------------------------------------------------------\u001b[0m",
      "\u001b[1;31mKeyError\u001b[0m                                  Traceback (most recent call last)",
      "\u001b[1;32m~\\AppData\\Roaming\\Python\\Python39\\site-packages\\xarray\\core\\dataarray.py\u001b[0m in \u001b[0;36m_getitem_coord\u001b[1;34m(self, key)\u001b[0m\n\u001b[0;32m    725\u001b[0m         \u001b[1;32mtry\u001b[0m\u001b[1;33m:\u001b[0m\u001b[1;33m\u001b[0m\u001b[1;33m\u001b[0m\u001b[0m\n\u001b[1;32m--> 726\u001b[1;33m             \u001b[0mvar\u001b[0m \u001b[1;33m=\u001b[0m \u001b[0mself\u001b[0m\u001b[1;33m.\u001b[0m\u001b[0m_coords\u001b[0m\u001b[1;33m[\u001b[0m\u001b[0mkey\u001b[0m\u001b[1;33m]\u001b[0m\u001b[1;33m\u001b[0m\u001b[1;33m\u001b[0m\u001b[0m\n\u001b[0m\u001b[0;32m    727\u001b[0m         \u001b[1;32mexcept\u001b[0m \u001b[0mKeyError\u001b[0m\u001b[1;33m:\u001b[0m\u001b[1;33m\u001b[0m\u001b[1;33m\u001b[0m\u001b[0m\n",
      "\u001b[1;31mKeyError\u001b[0m: 'data'",
      "\nDuring handling of the above exception, another exception occurred:\n",
      "\u001b[1;31mKeyError\u001b[0m                                  Traceback (most recent call last)",
      "\u001b[1;32m~\\AppData\\Local\\Temp/ipykernel_28252/2926777427.py\u001b[0m in \u001b[0;36m<module>\u001b[1;34m\u001b[0m\n\u001b[1;32m----> 1\u001b[1;33m \u001b[0msubset1\u001b[0m\u001b[1;33m[\u001b[0m\u001b[1;34m'data'\u001b[0m\u001b[1;33m]\u001b[0m\u001b[1;33m.\u001b[0m\u001b[0mvalues\u001b[0m\u001b[1;33m\u001b[0m\u001b[1;33m\u001b[0m\u001b[0m\n\u001b[0m",
      "\u001b[1;32m~\\AppData\\Roaming\\Python\\Python39\\site-packages\\xarray\\core\\dataarray.py\u001b[0m in \u001b[0;36m__getitem__\u001b[1;34m(self, key)\u001b[0m\n\u001b[0;32m    735\u001b[0m     \u001b[1;32mdef\u001b[0m \u001b[0m__getitem__\u001b[0m\u001b[1;33m(\u001b[0m\u001b[0mself\u001b[0m\u001b[1;33m,\u001b[0m \u001b[0mkey\u001b[0m\u001b[1;33m:\u001b[0m \u001b[0mAny\u001b[0m\u001b[1;33m)\u001b[0m \u001b[1;33m->\u001b[0m \u001b[0mDataArray\u001b[0m\u001b[1;33m:\u001b[0m\u001b[1;33m\u001b[0m\u001b[1;33m\u001b[0m\u001b[0m\n\u001b[0;32m    736\u001b[0m         \u001b[1;32mif\u001b[0m \u001b[0misinstance\u001b[0m\u001b[1;33m(\u001b[0m\u001b[0mkey\u001b[0m\u001b[1;33m,\u001b[0m \u001b[0mstr\u001b[0m\u001b[1;33m)\u001b[0m\u001b[1;33m:\u001b[0m\u001b[1;33m\u001b[0m\u001b[1;33m\u001b[0m\u001b[0m\n\u001b[1;32m--> 737\u001b[1;33m             \u001b[1;32mreturn\u001b[0m \u001b[0mself\u001b[0m\u001b[1;33m.\u001b[0m\u001b[0m_getitem_coord\u001b[0m\u001b[1;33m(\u001b[0m\u001b[0mkey\u001b[0m\u001b[1;33m)\u001b[0m\u001b[1;33m\u001b[0m\u001b[1;33m\u001b[0m\u001b[0m\n\u001b[0m\u001b[0;32m    738\u001b[0m         \u001b[1;32melse\u001b[0m\u001b[1;33m:\u001b[0m\u001b[1;33m\u001b[0m\u001b[1;33m\u001b[0m\u001b[0m\n\u001b[0;32m    739\u001b[0m             \u001b[1;31m# xarray-style array indexing\u001b[0m\u001b[1;33m\u001b[0m\u001b[1;33m\u001b[0m\u001b[0m\n",
      "\u001b[1;32m~\\AppData\\Roaming\\Python\\Python39\\site-packages\\xarray\\core\\dataarray.py\u001b[0m in \u001b[0;36m_getitem_coord\u001b[1;34m(self, key)\u001b[0m\n\u001b[0;32m    727\u001b[0m         \u001b[1;32mexcept\u001b[0m \u001b[0mKeyError\u001b[0m\u001b[1;33m:\u001b[0m\u001b[1;33m\u001b[0m\u001b[1;33m\u001b[0m\u001b[0m\n\u001b[0;32m    728\u001b[0m             \u001b[0mdim_sizes\u001b[0m \u001b[1;33m=\u001b[0m \u001b[0mdict\u001b[0m\u001b[1;33m(\u001b[0m\u001b[0mzip\u001b[0m\u001b[1;33m(\u001b[0m\u001b[0mself\u001b[0m\u001b[1;33m.\u001b[0m\u001b[0mdims\u001b[0m\u001b[1;33m,\u001b[0m \u001b[0mself\u001b[0m\u001b[1;33m.\u001b[0m\u001b[0mshape\u001b[0m\u001b[1;33m)\u001b[0m\u001b[1;33m)\u001b[0m\u001b[1;33m\u001b[0m\u001b[1;33m\u001b[0m\u001b[0m\n\u001b[1;32m--> 729\u001b[1;33m             _, key, var = _get_virtual_variable(\n\u001b[0m\u001b[0;32m    730\u001b[0m                 \u001b[0mself\u001b[0m\u001b[1;33m.\u001b[0m\u001b[0m_coords\u001b[0m\u001b[1;33m,\u001b[0m \u001b[0mkey\u001b[0m\u001b[1;33m,\u001b[0m \u001b[0mself\u001b[0m\u001b[1;33m.\u001b[0m\u001b[0m_level_coords\u001b[0m\u001b[1;33m,\u001b[0m \u001b[0mdim_sizes\u001b[0m\u001b[1;33m\u001b[0m\u001b[1;33m\u001b[0m\u001b[0m\n\u001b[0;32m    731\u001b[0m             )\n",
      "\u001b[1;32m~\\AppData\\Roaming\\Python\\Python39\\site-packages\\xarray\\core\\dataset.py\u001b[0m in \u001b[0;36m_get_virtual_variable\u001b[1;34m(variables, key, level_vars, dim_sizes)\u001b[0m\n\u001b[0;32m    166\u001b[0m         \u001b[0mref_var\u001b[0m \u001b[1;33m=\u001b[0m \u001b[0mdim_var\u001b[0m\u001b[1;33m.\u001b[0m\u001b[0mto_index_variable\u001b[0m\u001b[1;33m(\u001b[0m\u001b[1;33m)\u001b[0m\u001b[1;33m.\u001b[0m\u001b[0mget_level_variable\u001b[0m\u001b[1;33m(\u001b[0m\u001b[0mref_name\u001b[0m\u001b[1;33m)\u001b[0m\u001b[1;33m\u001b[0m\u001b[1;33m\u001b[0m\u001b[0m\n\u001b[0;32m    167\u001b[0m     \u001b[1;32melse\u001b[0m\u001b[1;33m:\u001b[0m\u001b[1;33m\u001b[0m\u001b[1;33m\u001b[0m\u001b[0m\n\u001b[1;32m--> 168\u001b[1;33m         \u001b[0mref_var\u001b[0m \u001b[1;33m=\u001b[0m \u001b[0mvariables\u001b[0m\u001b[1;33m[\u001b[0m\u001b[0mref_name\u001b[0m\u001b[1;33m]\u001b[0m\u001b[1;33m\u001b[0m\u001b[1;33m\u001b[0m\u001b[0m\n\u001b[0m\u001b[0;32m    169\u001b[0m \u001b[1;33m\u001b[0m\u001b[0m\n\u001b[0;32m    170\u001b[0m     \u001b[1;32mif\u001b[0m \u001b[0mvar_name\u001b[0m \u001b[1;32mis\u001b[0m \u001b[1;32mNone\u001b[0m\u001b[1;33m:\u001b[0m\u001b[1;33m\u001b[0m\u001b[1;33m\u001b[0m\u001b[0m\n",
      "\u001b[1;31mKeyError\u001b[0m: 'data'"
     ]
    }
   ],
   "source": [
    "subset1['data'].values"
   ]
  },
  {
   "cell_type": "code",
   "execution_count": 257,
   "id": "dc40eb5d",
   "metadata": {},
   "outputs": [
    {
     "data": {
      "text/plain": [
       "DatetimeIndex(['2020-01-01 00:05:00', '2020-01-01 00:10:00',\n",
       "               '2020-01-01 00:15:00', '2020-01-01 00:20:00',\n",
       "               '2020-01-01 00:25:00', '2020-01-01 00:30:00',\n",
       "               '2020-01-01 00:35:00', '2020-01-01 00:40:00',\n",
       "               '2020-01-01 00:45:00', '2020-01-01 00:50:00',\n",
       "               ...\n",
       "               '2021-11-07 15:05:00', '2021-11-07 15:10:00',\n",
       "               '2021-11-07 15:15:00', '2021-11-07 15:20:00',\n",
       "               '2021-11-07 15:25:00', '2021-11-07 15:30:00',\n",
       "               '2021-11-07 15:35:00', '2021-11-07 15:40:00',\n",
       "               '2021-11-07 15:45:00', '2021-11-07 15:50:00'],\n",
       "              dtype='datetime64[ns]', length=173624, freq=None)"
      ]
     },
     "execution_count": 257,
     "metadata": {},
     "output_type": "execute_result"
    }
   ],
   "source": [
    "pd.DatetimeIndex(subset[\"time\"])"
   ]
  },
  {
   "cell_type": "code",
   "execution_count": 7,
   "id": "aba67fa1",
   "metadata": {},
   "outputs": [],
   "source": [
    "from OSGridConverter import grid2latlong\n",
    "from numpy import float64"
   ]
  },
  {
   "cell_type": "code",
   "execution_count": 8,
   "id": "8f2efe1b",
   "metadata": {},
   "outputs": [],
   "source": [
    "import pandas as pd\n",
    "from pvlib import solarposition"
   ]
  },
  {
   "cell_type": "code",
   "execution_count": 32,
   "id": "fe680ece",
   "metadata": {},
   "outputs": [
    {
     "name": "stdout",
     "output_type": "stream",
     "text": [
      "09:00:00\n"
     ]
    }
   ],
   "source": [
    "selection = input_slice.isel(\n",
    "            x=slice(rand_x, rand_x + 128),\n",
    "            y=slice(rand_y, rand_y + 128),\n",
    "        )"
   ]
  },
  {
   "cell_type": "code",
   "execution_count": 279,
   "id": "4a208ff1",
   "metadata": {},
   "outputs": [],
   "source": [
    "#res_list_en = convert_lonlat(osgb_data[0], osgb_data[1])\n",
    "lat, lon = subset.y[0].values, subset.x[0].values\n",
    "times = pd.DatetimeIndex(subset.time.values)\n",
    "solpos = solarposition.get_solarposition(times, lat, lon)"
   ]
  },
  {
   "cell_type": "code",
   "execution_count": 285,
   "id": "23493e0c",
   "metadata": {},
   "outputs": [],
   "source": [
    "lat, lon = subset.y[0].values, subset.x[399].values\n",
    "times = pd.DatetimeIndex(subset.time.values)\n",
    "solpos = solarposition.get_solarposition(times, lat, lon)\n",
    "solpos = solpos.loc[solpos['apparent_elevation'] >= 10, :]\n",
    "subset= subset[np.in1d(subset.time.values, solpos.index)]"
   ]
  },
  {
   "cell_type": "code",
   "execution_count": 286,
   "id": "c189ef4a",
   "metadata": {},
   "outputs": [],
   "source": [
    "lat, lon = subset.y[324].values, subset.x[399].values\n",
    "times = pd.DatetimeIndex(subset.time.values)\n",
    "solpos = solarposition.get_solarposition(times, lat, lon)\n",
    "solpos = solpos.loc[solpos['apparent_elevation'] >= 10, :]\n",
    "subset= subset[np.in1d(subset.time.values, solpos.index)]"
   ]
  },
  {
   "cell_type": "code",
   "execution_count": 287,
   "id": "23002fa5",
   "metadata": {},
   "outputs": [],
   "source": [
    "lat, lon = subset.y[324].values, subset.x[0].values\n",
    "times = pd.DatetimeIndex(subset.time.values)\n",
    "solpos = solarposition.get_solarposition(times, lat, lon)\n",
    "solpos = solpos.loc[solpos['apparent_elevation'] >= 10, :]\n",
    "subset= subset[np.in1d(subset.time.values, solpos.index)]"
   ]
  },
  {
   "cell_type": "code",
   "execution_count": 292,
   "id": "3ccb2c82",
   "metadata": {},
   "outputs": [
    {
     "data": {
      "text/html": [
       "<div><svg style=\"position: absolute; width: 0; height: 0; overflow: hidden\">\n",
       "<defs>\n",
       "<symbol id=\"icon-database\" viewBox=\"0 0 32 32\">\n",
       "<path d=\"M16 0c-8.837 0-16 2.239-16 5v4c0 2.761 7.163 5 16 5s16-2.239 16-5v-4c0-2.761-7.163-5-16-5z\"></path>\n",
       "<path d=\"M16 17c-8.837 0-16-2.239-16-5v6c0 2.761 7.163 5 16 5s16-2.239 16-5v-6c0 2.761-7.163 5-16 5z\"></path>\n",
       "<path d=\"M16 26c-8.837 0-16-2.239-16-5v6c0 2.761 7.163 5 16 5s16-2.239 16-5v-6c0 2.761-7.163 5-16 5z\"></path>\n",
       "</symbol>\n",
       "<symbol id=\"icon-file-text2\" viewBox=\"0 0 32 32\">\n",
       "<path d=\"M28.681 7.159c-0.694-0.947-1.662-2.053-2.724-3.116s-2.169-2.030-3.116-2.724c-1.612-1.182-2.393-1.319-2.841-1.319h-15.5c-1.378 0-2.5 1.121-2.5 2.5v27c0 1.378 1.122 2.5 2.5 2.5h23c1.378 0 2.5-1.122 2.5-2.5v-19.5c0-0.448-0.137-1.23-1.319-2.841zM24.543 5.457c0.959 0.959 1.712 1.825 2.268 2.543h-4.811v-4.811c0.718 0.556 1.584 1.309 2.543 2.268zM28 29.5c0 0.271-0.229 0.5-0.5 0.5h-23c-0.271 0-0.5-0.229-0.5-0.5v-27c0-0.271 0.229-0.5 0.5-0.5 0 0 15.499-0 15.5 0v7c0 0.552 0.448 1 1 1h7v19.5z\"></path>\n",
       "<path d=\"M23 26h-14c-0.552 0-1-0.448-1-1s0.448-1 1-1h14c0.552 0 1 0.448 1 1s-0.448 1-1 1z\"></path>\n",
       "<path d=\"M23 22h-14c-0.552 0-1-0.448-1-1s0.448-1 1-1h14c0.552 0 1 0.448 1 1s-0.448 1-1 1z\"></path>\n",
       "<path d=\"M23 18h-14c-0.552 0-1-0.448-1-1s0.448-1 1-1h14c0.552 0 1 0.448 1 1s-0.448 1-1 1z\"></path>\n",
       "</symbol>\n",
       "</defs>\n",
       "</svg>\n",
       "<style>/* CSS stylesheet for displaying xarray objects in jupyterlab.\n",
       " *\n",
       " */\n",
       "\n",
       ":root {\n",
       "  --xr-font-color0: var(--jp-content-font-color0, rgba(0, 0, 0, 1));\n",
       "  --xr-font-color2: var(--jp-content-font-color2, rgba(0, 0, 0, 0.54));\n",
       "  --xr-font-color3: var(--jp-content-font-color3, rgba(0, 0, 0, 0.38));\n",
       "  --xr-border-color: var(--jp-border-color2, #e0e0e0);\n",
       "  --xr-disabled-color: var(--jp-layout-color3, #bdbdbd);\n",
       "  --xr-background-color: var(--jp-layout-color0, white);\n",
       "  --xr-background-color-row-even: var(--jp-layout-color1, white);\n",
       "  --xr-background-color-row-odd: var(--jp-layout-color2, #eeeeee);\n",
       "}\n",
       "\n",
       "html[theme=dark],\n",
       "body.vscode-dark {\n",
       "  --xr-font-color0: rgba(255, 255, 255, 1);\n",
       "  --xr-font-color2: rgba(255, 255, 255, 0.54);\n",
       "  --xr-font-color3: rgba(255, 255, 255, 0.38);\n",
       "  --xr-border-color: #1F1F1F;\n",
       "  --xr-disabled-color: #515151;\n",
       "  --xr-background-color: #111111;\n",
       "  --xr-background-color-row-even: #111111;\n",
       "  --xr-background-color-row-odd: #313131;\n",
       "}\n",
       "\n",
       ".xr-wrap {\n",
       "  display: block !important;\n",
       "  min-width: 300px;\n",
       "  max-width: 700px;\n",
       "}\n",
       "\n",
       ".xr-text-repr-fallback {\n",
       "  /* fallback to plain text repr when CSS is not injected (untrusted notebook) */\n",
       "  display: none;\n",
       "}\n",
       "\n",
       ".xr-header {\n",
       "  padding-top: 6px;\n",
       "  padding-bottom: 6px;\n",
       "  margin-bottom: 4px;\n",
       "  border-bottom: solid 1px var(--xr-border-color);\n",
       "}\n",
       "\n",
       ".xr-header > div,\n",
       ".xr-header > ul {\n",
       "  display: inline;\n",
       "  margin-top: 0;\n",
       "  margin-bottom: 0;\n",
       "}\n",
       "\n",
       ".xr-obj-type,\n",
       ".xr-array-name {\n",
       "  margin-left: 2px;\n",
       "  margin-right: 10px;\n",
       "}\n",
       "\n",
       ".xr-obj-type {\n",
       "  color: var(--xr-font-color2);\n",
       "}\n",
       "\n",
       ".xr-sections {\n",
       "  padding-left: 0 !important;\n",
       "  display: grid;\n",
       "  grid-template-columns: 150px auto auto 1fr 20px 20px;\n",
       "}\n",
       "\n",
       ".xr-section-item {\n",
       "  display: contents;\n",
       "}\n",
       "\n",
       ".xr-section-item input {\n",
       "  display: none;\n",
       "}\n",
       "\n",
       ".xr-section-item input + label {\n",
       "  color: var(--xr-disabled-color);\n",
       "}\n",
       "\n",
       ".xr-section-item input:enabled + label {\n",
       "  cursor: pointer;\n",
       "  color: var(--xr-font-color2);\n",
       "}\n",
       "\n",
       ".xr-section-item input:enabled + label:hover {\n",
       "  color: var(--xr-font-color0);\n",
       "}\n",
       "\n",
       ".xr-section-summary {\n",
       "  grid-column: 1;\n",
       "  color: var(--xr-font-color2);\n",
       "  font-weight: 500;\n",
       "}\n",
       "\n",
       ".xr-section-summary > span {\n",
       "  display: inline-block;\n",
       "  padding-left: 0.5em;\n",
       "}\n",
       "\n",
       ".xr-section-summary-in:disabled + label {\n",
       "  color: var(--xr-font-color2);\n",
       "}\n",
       "\n",
       ".xr-section-summary-in + label:before {\n",
       "  display: inline-block;\n",
       "  content: '►';\n",
       "  font-size: 11px;\n",
       "  width: 15px;\n",
       "  text-align: center;\n",
       "}\n",
       "\n",
       ".xr-section-summary-in:disabled + label:before {\n",
       "  color: var(--xr-disabled-color);\n",
       "}\n",
       "\n",
       ".xr-section-summary-in:checked + label:before {\n",
       "  content: '▼';\n",
       "}\n",
       "\n",
       ".xr-section-summary-in:checked + label > span {\n",
       "  display: none;\n",
       "}\n",
       "\n",
       ".xr-section-summary,\n",
       ".xr-section-inline-details {\n",
       "  padding-top: 4px;\n",
       "  padding-bottom: 4px;\n",
       "}\n",
       "\n",
       ".xr-section-inline-details {\n",
       "  grid-column: 2 / -1;\n",
       "}\n",
       "\n",
       ".xr-section-details {\n",
       "  display: none;\n",
       "  grid-column: 1 / -1;\n",
       "  margin-bottom: 5px;\n",
       "}\n",
       "\n",
       ".xr-section-summary-in:checked ~ .xr-section-details {\n",
       "  display: contents;\n",
       "}\n",
       "\n",
       ".xr-array-wrap {\n",
       "  grid-column: 1 / -1;\n",
       "  display: grid;\n",
       "  grid-template-columns: 20px auto;\n",
       "}\n",
       "\n",
       ".xr-array-wrap > label {\n",
       "  grid-column: 1;\n",
       "  vertical-align: top;\n",
       "}\n",
       "\n",
       ".xr-preview {\n",
       "  color: var(--xr-font-color3);\n",
       "}\n",
       "\n",
       ".xr-array-preview,\n",
       ".xr-array-data {\n",
       "  padding: 0 5px !important;\n",
       "  grid-column: 2;\n",
       "}\n",
       "\n",
       ".xr-array-data,\n",
       ".xr-array-in:checked ~ .xr-array-preview {\n",
       "  display: none;\n",
       "}\n",
       "\n",
       ".xr-array-in:checked ~ .xr-array-data,\n",
       ".xr-array-preview {\n",
       "  display: inline-block;\n",
       "}\n",
       "\n",
       ".xr-dim-list {\n",
       "  display: inline-block !important;\n",
       "  list-style: none;\n",
       "  padding: 0 !important;\n",
       "  margin: 0;\n",
       "}\n",
       "\n",
       ".xr-dim-list li {\n",
       "  display: inline-block;\n",
       "  padding: 0;\n",
       "  margin: 0;\n",
       "}\n",
       "\n",
       ".xr-dim-list:before {\n",
       "  content: '(';\n",
       "}\n",
       "\n",
       ".xr-dim-list:after {\n",
       "  content: ')';\n",
       "}\n",
       "\n",
       ".xr-dim-list li:not(:last-child):after {\n",
       "  content: ',';\n",
       "  padding-right: 5px;\n",
       "}\n",
       "\n",
       ".xr-has-index {\n",
       "  font-weight: bold;\n",
       "}\n",
       "\n",
       ".xr-var-list,\n",
       ".xr-var-item {\n",
       "  display: contents;\n",
       "}\n",
       "\n",
       ".xr-var-item > div,\n",
       ".xr-var-item label,\n",
       ".xr-var-item > .xr-var-name span {\n",
       "  background-color: var(--xr-background-color-row-even);\n",
       "  margin-bottom: 0;\n",
       "}\n",
       "\n",
       ".xr-var-item > .xr-var-name:hover span {\n",
       "  padding-right: 5px;\n",
       "}\n",
       "\n",
       ".xr-var-list > li:nth-child(odd) > div,\n",
       ".xr-var-list > li:nth-child(odd) > label,\n",
       ".xr-var-list > li:nth-child(odd) > .xr-var-name span {\n",
       "  background-color: var(--xr-background-color-row-odd);\n",
       "}\n",
       "\n",
       ".xr-var-name {\n",
       "  grid-column: 1;\n",
       "}\n",
       "\n",
       ".xr-var-dims {\n",
       "  grid-column: 2;\n",
       "}\n",
       "\n",
       ".xr-var-dtype {\n",
       "  grid-column: 3;\n",
       "  text-align: right;\n",
       "  color: var(--xr-font-color2);\n",
       "}\n",
       "\n",
       ".xr-var-preview {\n",
       "  grid-column: 4;\n",
       "}\n",
       "\n",
       ".xr-var-name,\n",
       ".xr-var-dims,\n",
       ".xr-var-dtype,\n",
       ".xr-preview,\n",
       ".xr-attrs dt {\n",
       "  white-space: nowrap;\n",
       "  overflow: hidden;\n",
       "  text-overflow: ellipsis;\n",
       "  padding-right: 10px;\n",
       "}\n",
       "\n",
       ".xr-var-name:hover,\n",
       ".xr-var-dims:hover,\n",
       ".xr-var-dtype:hover,\n",
       ".xr-attrs dt:hover {\n",
       "  overflow: visible;\n",
       "  width: auto;\n",
       "  z-index: 1;\n",
       "}\n",
       "\n",
       ".xr-var-attrs,\n",
       ".xr-var-data {\n",
       "  display: none;\n",
       "  background-color: var(--xr-background-color) !important;\n",
       "  padding-bottom: 5px !important;\n",
       "}\n",
       "\n",
       ".xr-var-attrs-in:checked ~ .xr-var-attrs,\n",
       ".xr-var-data-in:checked ~ .xr-var-data {\n",
       "  display: block;\n",
       "}\n",
       "\n",
       ".xr-var-data > table {\n",
       "  float: right;\n",
       "}\n",
       "\n",
       ".xr-var-name span,\n",
       ".xr-var-data,\n",
       ".xr-attrs {\n",
       "  padding-left: 25px !important;\n",
       "}\n",
       "\n",
       ".xr-attrs,\n",
       ".xr-var-attrs,\n",
       ".xr-var-data {\n",
       "  grid-column: 1 / -1;\n",
       "}\n",
       "\n",
       "dl.xr-attrs {\n",
       "  padding: 0;\n",
       "  margin: 0;\n",
       "  display: grid;\n",
       "  grid-template-columns: 125px auto;\n",
       "}\n",
       "\n",
       ".xr-attrs dt,\n",
       ".xr-attrs dd {\n",
       "  padding: 0;\n",
       "  margin: 0;\n",
       "  float: left;\n",
       "  padding-right: 10px;\n",
       "  width: auto;\n",
       "}\n",
       "\n",
       ".xr-attrs dt {\n",
       "  font-weight: normal;\n",
       "  grid-column: 1;\n",
       "}\n",
       "\n",
       ".xr-attrs dt:hover span {\n",
       "  display: inline-block;\n",
       "  background: var(--xr-background-color);\n",
       "  padding-right: 10px;\n",
       "}\n",
       "\n",
       ".xr-attrs dd {\n",
       "  grid-column: 2;\n",
       "  white-space: pre-wrap;\n",
       "  word-break: break-all;\n",
       "}\n",
       "\n",
       ".xr-icon-database,\n",
       ".xr-icon-file-text2 {\n",
       "  display: inline-block;\n",
       "  vertical-align: middle;\n",
       "  width: 1em;\n",
       "  height: 1.5em !important;\n",
       "  stroke-width: 0;\n",
       "  stroke: currentColor;\n",
       "  fill: currentColor;\n",
       "}\n",
       "</style><pre class='xr-text-repr-fallback'>&lt;xarray.DataArray &#x27;data&#x27; (time: 6304, y: 325, x: 400)&gt;\n",
       "dask.array&lt;getitem, shape=(6304, 325, 400), dtype=int16, chunksize=(1, 325, 400), chunktype=numpy.ndarray&gt;\n",
       "Coordinates:\n",
       "  * time     (time) datetime64[ns] 2020-01-01T00:05:00 ... 2021-11-07T10:35:00\n",
       "  * x        (x) float32 -5.221e+05 -5.231e+05 ... -9.201e+05 -9.211e+05\n",
       "    x_osgb   (y, x) float32 dask.array&lt;chunksize=(325, 400), meta=np.ndarray&gt;\n",
       "  * y        (y) float32 4.573e+06 4.574e+06 4.575e+06 ... 4.896e+06 4.897e+06\n",
       "    y_osgb   (y, x) float32 dask.array&lt;chunksize=(325, 400), meta=np.ndarray&gt;\n",
       "Attributes:\n",
       "    _satpy_id:                              !!python/object/apply:satpy.datas...\n",
       "    ancillary_variables:                    []\n",
       "    area:                                   msg_seviri_rss_1km:\\n  descriptio...\n",
       "    calibration:                            reflectance\n",
       "    coordinates:                            acq_time\n",
       "    georef_offset_corrected:                True\n",
       "    modifiers:                              []\n",
       "    name:                                   HRV\n",
       "    orbital_parameters:                     projection_altitude: 35785831.0\\n...\n",
       "    platform_name:                          Meteosat-10\n",
       "    reader:                                 seviri_l1b_native\n",
       "    resolution:                             1000.134348869\n",
       "    sensor:                                 seviri\n",
       "    standard_name:                          toa_bidirectional_reflectance\n",
       "    sun_earth_distance_correction_applied:  True\n",
       "    sun_earth_distance_correction_factor:   1.0282367454433767\n",
       "    wavelength:                             [0.5, 0.7, 0.9, &#x27;µm&#x27;]</pre><div class='xr-wrap' style='display:none'><div class='xr-header'><div class='xr-obj-type'>xarray.DataArray</div><div class='xr-array-name'>'data'</div><ul class='xr-dim-list'><li><span class='xr-has-index'>time</span>: 6304</li><li><span class='xr-has-index'>y</span>: 325</li><li><span class='xr-has-index'>x</span>: 400</li></ul></div><ul class='xr-sections'><li class='xr-section-item'><div class='xr-array-wrap'><input id='section-e8fcde27-b132-4b28-ab2f-1a5b032c481c' class='xr-array-in' type='checkbox' checked><label for='section-e8fcde27-b132-4b28-ab2f-1a5b032c481c' title='Show/hide data repr'><svg class='icon xr-icon-database'><use xlink:href='#icon-database'></use></svg></label><div class='xr-array-preview xr-preview'><span>dask.array&lt;chunksize=(1, 325, 400), meta=np.ndarray&gt;</span></div><div class='xr-array-data'><table>\n",
       "    <tr>\n",
       "        <td>\n",
       "            <table>\n",
       "                <thead>\n",
       "                    <tr>\n",
       "                        <td> </td>\n",
       "                        <th> Array </th>\n",
       "                        <th> Chunk </th>\n",
       "                    </tr>\n",
       "                </thead>\n",
       "                <tbody>\n",
       "                    \n",
       "                    <tr>\n",
       "                        <th> Bytes </th>\n",
       "                        <td> 1.53 GiB </td>\n",
       "                        <td> 253.91 kiB </td>\n",
       "                    </tr>\n",
       "                    \n",
       "                    <tr>\n",
       "                        <th> Shape </th>\n",
       "                        <td> (6304, 325, 400) </td>\n",
       "                        <td> (1, 325, 400) </td>\n",
       "                    </tr>\n",
       "                    <tr>\n",
       "                        <th> Count </th>\n",
       "                        <td> 420818 Tasks </td>\n",
       "                        <td> 6304 Chunks </td>\n",
       "                    </tr>\n",
       "                    <tr>\n",
       "                    <th> Type </th>\n",
       "                    <td> int16 </td>\n",
       "                    <td> numpy.ndarray </td>\n",
       "                    </tr>\n",
       "                </tbody>\n",
       "            </table>\n",
       "        </td>\n",
       "        <td>\n",
       "        <svg width=\"166\" height=\"155\" style=\"stroke:rgb(0,0,0);stroke-width:1\" >\n",
       "\n",
       "  <!-- Horizontal lines -->\n",
       "  <line x1=\"10\" y1=\"0\" x2=\"80\" y2=\"70\" style=\"stroke-width:2\" />\n",
       "  <line x1=\"10\" y1=\"34\" x2=\"80\" y2=\"105\" style=\"stroke-width:2\" />\n",
       "\n",
       "  <!-- Vertical lines -->\n",
       "  <line x1=\"10\" y1=\"0\" x2=\"10\" y2=\"34\" style=\"stroke-width:2\" />\n",
       "  <line x1=\"13\" y1=\"3\" x2=\"13\" y2=\"38\" />\n",
       "  <line x1=\"17\" y1=\"7\" x2=\"17\" y2=\"42\" />\n",
       "  <line x1=\"21\" y1=\"11\" x2=\"21\" y2=\"45\" />\n",
       "  <line x1=\"24\" y1=\"14\" x2=\"24\" y2=\"49\" />\n",
       "  <line x1=\"28\" y1=\"18\" x2=\"28\" y2=\"53\" />\n",
       "  <line x1=\"32\" y1=\"22\" x2=\"32\" y2=\"56\" />\n",
       "  <line x1=\"36\" y1=\"26\" x2=\"36\" y2=\"60\" />\n",
       "  <line x1=\"39\" y1=\"29\" x2=\"39\" y2=\"64\" />\n",
       "  <line x1=\"43\" y1=\"33\" x2=\"43\" y2=\"68\" />\n",
       "  <line x1=\"47\" y1=\"37\" x2=\"47\" y2=\"71\" />\n",
       "  <line x1=\"50\" y1=\"40\" x2=\"50\" y2=\"75\" />\n",
       "  <line x1=\"54\" y1=\"44\" x2=\"54\" y2=\"79\" />\n",
       "  <line x1=\"58\" y1=\"48\" x2=\"58\" y2=\"82\" />\n",
       "  <line x1=\"62\" y1=\"52\" x2=\"62\" y2=\"86\" />\n",
       "  <line x1=\"65\" y1=\"55\" x2=\"65\" y2=\"90\" />\n",
       "  <line x1=\"69\" y1=\"59\" x2=\"69\" y2=\"94\" />\n",
       "  <line x1=\"73\" y1=\"63\" x2=\"73\" y2=\"97\" />\n",
       "  <line x1=\"76\" y1=\"66\" x2=\"76\" y2=\"101\" />\n",
       "  <line x1=\"80\" y1=\"70\" x2=\"80\" y2=\"105\" style=\"stroke-width:2\" />\n",
       "\n",
       "  <!-- Colored Rectangle -->\n",
       "  <polygon points=\"10.0,0.0 80.58823529411765,70.58823529411765 80.58823529411765,105.27663706217223 10.0,34.68840176805457\" style=\"fill:#8B4903A0;stroke-width:0\"/>\n",
       "\n",
       "  <!-- Horizontal lines -->\n",
       "  <line x1=\"10\" y1=\"0\" x2=\"45\" y2=\"0\" style=\"stroke-width:2\" />\n",
       "  <line x1=\"13\" y1=\"3\" x2=\"49\" y2=\"3\" />\n",
       "  <line x1=\"17\" y1=\"7\" x2=\"53\" y2=\"7\" />\n",
       "  <line x1=\"21\" y1=\"11\" x2=\"57\" y2=\"11\" />\n",
       "  <line x1=\"24\" y1=\"14\" x2=\"60\" y2=\"14\" />\n",
       "  <line x1=\"28\" y1=\"18\" x2=\"64\" y2=\"18\" />\n",
       "  <line x1=\"32\" y1=\"22\" x2=\"68\" y2=\"22\" />\n",
       "  <line x1=\"36\" y1=\"26\" x2=\"71\" y2=\"26\" />\n",
       "  <line x1=\"39\" y1=\"29\" x2=\"75\" y2=\"29\" />\n",
       "  <line x1=\"43\" y1=\"33\" x2=\"79\" y2=\"33\" />\n",
       "  <line x1=\"47\" y1=\"37\" x2=\"83\" y2=\"37\" />\n",
       "  <line x1=\"50\" y1=\"40\" x2=\"86\" y2=\"40\" />\n",
       "  <line x1=\"54\" y1=\"44\" x2=\"90\" y2=\"44\" />\n",
       "  <line x1=\"58\" y1=\"48\" x2=\"94\" y2=\"48\" />\n",
       "  <line x1=\"62\" y1=\"52\" x2=\"97\" y2=\"52\" />\n",
       "  <line x1=\"65\" y1=\"55\" x2=\"101\" y2=\"55\" />\n",
       "  <line x1=\"69\" y1=\"59\" x2=\"105\" y2=\"59\" />\n",
       "  <line x1=\"73\" y1=\"63\" x2=\"109\" y2=\"63\" />\n",
       "  <line x1=\"76\" y1=\"66\" x2=\"112\" y2=\"66\" />\n",
       "  <line x1=\"80\" y1=\"70\" x2=\"116\" y2=\"70\" style=\"stroke-width:2\" />\n",
       "\n",
       "  <!-- Vertical lines -->\n",
       "  <line x1=\"10\" y1=\"0\" x2=\"80\" y2=\"70\" style=\"stroke-width:2\" />\n",
       "  <line x1=\"45\" y1=\"0\" x2=\"116\" y2=\"70\" style=\"stroke-width:2\" />\n",
       "\n",
       "  <!-- Colored Rectangle -->\n",
       "  <polygon points=\"10.0,0.0 45.950720212800604,0.0 116.53895550691826,70.58823529411765 80.58823529411765,70.58823529411765\" style=\"fill:#8B4903A0;stroke-width:0\"/>\n",
       "\n",
       "  <!-- Horizontal lines -->\n",
       "  <line x1=\"80\" y1=\"70\" x2=\"116\" y2=\"70\" style=\"stroke-width:2\" />\n",
       "  <line x1=\"80\" y1=\"105\" x2=\"116\" y2=\"105\" style=\"stroke-width:2\" />\n",
       "\n",
       "  <!-- Vertical lines -->\n",
       "  <line x1=\"80\" y1=\"70\" x2=\"80\" y2=\"105\" style=\"stroke-width:2\" />\n",
       "  <line x1=\"116\" y1=\"70\" x2=\"116\" y2=\"105\" style=\"stroke-width:2\" />\n",
       "\n",
       "  <!-- Colored Rectangle -->\n",
       "  <polygon points=\"80.58823529411765,70.58823529411765 116.53895550691826,70.58823529411765 116.53895550691826,105.27663706217223 80.58823529411765,105.27663706217223\" style=\"fill:#ECB172A0;stroke-width:0\"/>\n",
       "\n",
       "  <!-- Text -->\n",
       "  <text x=\"98.563595\" y=\"125.276637\" font-size=\"1.0rem\" font-weight=\"100\" text-anchor=\"middle\" >400</text>\n",
       "  <text x=\"136.538956\" y=\"87.932436\" font-size=\"1.0rem\" font-weight=\"100\" text-anchor=\"middle\" transform=\"rotate(-90,136.538956,87.932436)\">325</text>\n",
       "  <text x=\"35.294118\" y=\"89.982519\" font-size=\"1.0rem\" font-weight=\"100\" text-anchor=\"middle\" transform=\"rotate(45,35.294118,89.982519)\">6304</text>\n",
       "</svg>\n",
       "        </td>\n",
       "    </tr>\n",
       "</table></div></div></li><li class='xr-section-item'><input id='section-f6bcb67e-011f-4882-a603-018b99dc4d10' class='xr-section-summary-in' type='checkbox'  checked><label for='section-f6bcb67e-011f-4882-a603-018b99dc4d10' class='xr-section-summary' >Coordinates: <span>(5)</span></label><div class='xr-section-inline-details'></div><div class='xr-section-details'><ul class='xr-var-list'><li class='xr-var-item'><div class='xr-var-name'><span class='xr-has-index'>time</span></div><div class='xr-var-dims'>(time)</div><div class='xr-var-dtype'>datetime64[ns]</div><div class='xr-var-preview xr-preview'>2020-01-01T00:05:00 ... 2021-11-...</div><input id='attrs-c708ae89-b2b6-488e-a214-f1bb36d3da24' class='xr-var-attrs-in' type='checkbox' disabled><label for='attrs-c708ae89-b2b6-488e-a214-f1bb36d3da24' title='Show/Hide attributes'><svg class='icon xr-icon-file-text2'><use xlink:href='#icon-file-text2'></use></svg></label><input id='data-e415bcaa-e9b4-4850-90af-d3494af9bff8' class='xr-var-data-in' type='checkbox'><label for='data-e415bcaa-e9b4-4850-90af-d3494af9bff8' title='Show/Hide data repr'><svg class='icon xr-icon-database'><use xlink:href='#icon-database'></use></svg></label><div class='xr-var-attrs'><dl class='xr-attrs'></dl></div><div class='xr-var-data'><pre>array([&#x27;2020-01-01T00:05:00.000000000&#x27;, &#x27;2020-01-01T00:10:00.000000000&#x27;,\n",
       "       &#x27;2020-01-01T00:15:00.000000000&#x27;, ..., &#x27;2021-11-07T10:25:00.000000000&#x27;,\n",
       "       &#x27;2021-11-07T10:30:00.000000000&#x27;, &#x27;2021-11-07T10:35:00.000000000&#x27;],\n",
       "      dtype=&#x27;datetime64[ns]&#x27;)</pre></div></li><li class='xr-var-item'><div class='xr-var-name'><span class='xr-has-index'>x</span></div><div class='xr-var-dims'>(x)</div><div class='xr-var-dtype'>float32</div><div class='xr-var-preview xr-preview'>-5.221e+05 ... -9.211e+05</div><input id='attrs-d26d0667-0039-460b-840b-39476d391d69' class='xr-var-attrs-in' type='checkbox' ><label for='attrs-d26d0667-0039-460b-840b-39476d391d69' title='Show/Hide attributes'><svg class='icon xr-icon-file-text2'><use xlink:href='#icon-file-text2'></use></svg></label><input id='data-146805b3-8aba-417b-a125-1efb379f6942' class='xr-var-data-in' type='checkbox'><label for='data-146805b3-8aba-417b-a125-1efb379f6942' title='Show/Hide data repr'><svg class='icon xr-icon-database'><use xlink:href='#icon-database'></use></svg></label><div class='xr-var-attrs'><dl class='xr-attrs'><dt><span>coordinate_reference_system :</span></dt><dd>geostationary</dd><dt><span>units :</span></dt><dd>meter</dd></dl></div><div class='xr-var-data'><pre>array([-522070.12, -523070.25, -524070.4 , ..., -919123.44, -920123.6 ,\n",
       "       -921123.75], dtype=float32)</pre></div></li><li class='xr-var-item'><div class='xr-var-name'><span>x_osgb</span></div><div class='xr-var-dims'>(y, x)</div><div class='xr-var-dtype'>float32</div><div class='xr-var-preview xr-preview'>dask.array&lt;chunksize=(325, 400), meta=np.ndarray&gt;</div><input id='attrs-15a87ff8-ca67-447c-9930-b4d7bc5e7105' class='xr-var-attrs-in' type='checkbox' ><label for='attrs-15a87ff8-ca67-447c-9930-b4d7bc5e7105' title='Show/Hide attributes'><svg class='icon xr-icon-file-text2'><use xlink:href='#icon-file-text2'></use></svg></label><input id='data-1a69bf2e-1286-4810-ae7f-eb184b8fc7ac' class='xr-var-data-in' type='checkbox'><label for='data-1a69bf2e-1286-4810-ae7f-eb184b8fc7ac' title='Show/Hide data repr'><svg class='icon xr-icon-database'><use xlink:href='#icon-database'></use></svg></label><div class='xr-var-attrs'><dl class='xr-attrs'><dt><span>coordinate_reference_system :</span></dt><dd>OSGB</dd><dt><span>name :</span></dt><dd>Easting</dd><dt><span>units :</span></dt><dd>meter</dd></dl></div><div class='xr-var-data'><table>\n",
       "    <tr>\n",
       "        <td>\n",
       "            <table>\n",
       "                <thead>\n",
       "                    <tr>\n",
       "                        <td> </td>\n",
       "                        <th> Array </th>\n",
       "                        <th> Chunk </th>\n",
       "                    </tr>\n",
       "                </thead>\n",
       "                <tbody>\n",
       "                    \n",
       "                    <tr>\n",
       "                        <th> Bytes </th>\n",
       "                        <td> 507.81 kiB </td>\n",
       "                        <td> 507.81 kiB </td>\n",
       "                    </tr>\n",
       "                    \n",
       "                    <tr>\n",
       "                        <th> Shape </th>\n",
       "                        <td> (325, 400) </td>\n",
       "                        <td> (325, 400) </td>\n",
       "                    </tr>\n",
       "                    <tr>\n",
       "                        <th> Count </th>\n",
       "                        <td> 3 Tasks </td>\n",
       "                        <td> 1 Chunks </td>\n",
       "                    </tr>\n",
       "                    <tr>\n",
       "                    <th> Type </th>\n",
       "                    <td> float32 </td>\n",
       "                    <td> numpy.ndarray </td>\n",
       "                    </tr>\n",
       "                </tbody>\n",
       "            </table>\n",
       "        </td>\n",
       "        <td>\n",
       "        <svg width=\"170\" height=\"147\" style=\"stroke:rgb(0,0,0);stroke-width:1\" >\n",
       "\n",
       "  <!-- Horizontal lines -->\n",
       "  <line x1=\"0\" y1=\"0\" x2=\"120\" y2=\"0\" style=\"stroke-width:2\" />\n",
       "  <line x1=\"0\" y1=\"97\" x2=\"120\" y2=\"97\" style=\"stroke-width:2\" />\n",
       "\n",
       "  <!-- Vertical lines -->\n",
       "  <line x1=\"0\" y1=\"0\" x2=\"0\" y2=\"97\" style=\"stroke-width:2\" />\n",
       "  <line x1=\"120\" y1=\"0\" x2=\"120\" y2=\"97\" style=\"stroke-width:2\" />\n",
       "\n",
       "  <!-- Colored Rectangle -->\n",
       "  <polygon points=\"0.0,0.0 120.0,0.0 120.0,97.5 0.0,97.5\" style=\"fill:#ECB172A0;stroke-width:0\"/>\n",
       "\n",
       "  <!-- Text -->\n",
       "  <text x=\"60.000000\" y=\"117.500000\" font-size=\"1.0rem\" font-weight=\"100\" text-anchor=\"middle\" >400</text>\n",
       "  <text x=\"140.000000\" y=\"48.750000\" font-size=\"1.0rem\" font-weight=\"100\" text-anchor=\"middle\" transform=\"rotate(-90,140.000000,48.750000)\">325</text>\n",
       "</svg>\n",
       "        </td>\n",
       "    </tr>\n",
       "</table></div></li><li class='xr-var-item'><div class='xr-var-name'><span class='xr-has-index'>y</span></div><div class='xr-var-dims'>(y)</div><div class='xr-var-dtype'>float32</div><div class='xr-var-preview xr-preview'>4.573e+06 4.574e+06 ... 4.897e+06</div><input id='attrs-374dfe5d-4842-4eaa-912d-746d4d7e8621' class='xr-var-attrs-in' type='checkbox' ><label for='attrs-374dfe5d-4842-4eaa-912d-746d4d7e8621' title='Show/Hide attributes'><svg class='icon xr-icon-file-text2'><use xlink:href='#icon-file-text2'></use></svg></label><input id='data-2917fe93-7c2e-4440-82c5-abb70d288125' class='xr-var-data-in' type='checkbox'><label for='data-2917fe93-7c2e-4440-82c5-abb70d288125' title='Show/Hide data repr'><svg class='icon xr-icon-database'><use xlink:href='#icon-database'></use></svg></label><div class='xr-var-attrs'><dl class='xr-attrs'><dt><span>coordinate_reference_system :</span></dt><dd>geostationary</dd><dt><span>units :</span></dt><dd>meter</dd></dl></div><div class='xr-var-data'><pre>array([4572614. , 4573614.5, 4574614.5, ..., 4894657.5, 4895657.5, 4896658. ],\n",
       "      dtype=float32)</pre></div></li><li class='xr-var-item'><div class='xr-var-name'><span>y_osgb</span></div><div class='xr-var-dims'>(y, x)</div><div class='xr-var-dtype'>float32</div><div class='xr-var-preview xr-preview'>dask.array&lt;chunksize=(325, 400), meta=np.ndarray&gt;</div><input id='attrs-fceb0c8b-cc5c-4eda-a3b8-1adbc0c474c6' class='xr-var-attrs-in' type='checkbox' ><label for='attrs-fceb0c8b-cc5c-4eda-a3b8-1adbc0c474c6' title='Show/Hide attributes'><svg class='icon xr-icon-file-text2'><use xlink:href='#icon-file-text2'></use></svg></label><input id='data-dc958175-9976-4ded-8ce3-52b4d49cbd20' class='xr-var-data-in' type='checkbox'><label for='data-dc958175-9976-4ded-8ce3-52b4d49cbd20' title='Show/Hide data repr'><svg class='icon xr-icon-database'><use xlink:href='#icon-database'></use></svg></label><div class='xr-var-attrs'><dl class='xr-attrs'><dt><span>coordinate_reference_system :</span></dt><dd>OSGB</dd><dt><span>name :</span></dt><dd>Northing</dd><dt><span>units :</span></dt><dd>meter</dd></dl></div><div class='xr-var-data'><table>\n",
       "    <tr>\n",
       "        <td>\n",
       "            <table>\n",
       "                <thead>\n",
       "                    <tr>\n",
       "                        <td> </td>\n",
       "                        <th> Array </th>\n",
       "                        <th> Chunk </th>\n",
       "                    </tr>\n",
       "                </thead>\n",
       "                <tbody>\n",
       "                    \n",
       "                    <tr>\n",
       "                        <th> Bytes </th>\n",
       "                        <td> 507.81 kiB </td>\n",
       "                        <td> 507.81 kiB </td>\n",
       "                    </tr>\n",
       "                    \n",
       "                    <tr>\n",
       "                        <th> Shape </th>\n",
       "                        <td> (325, 400) </td>\n",
       "                        <td> (325, 400) </td>\n",
       "                    </tr>\n",
       "                    <tr>\n",
       "                        <th> Count </th>\n",
       "                        <td> 3 Tasks </td>\n",
       "                        <td> 1 Chunks </td>\n",
       "                    </tr>\n",
       "                    <tr>\n",
       "                    <th> Type </th>\n",
       "                    <td> float32 </td>\n",
       "                    <td> numpy.ndarray </td>\n",
       "                    </tr>\n",
       "                </tbody>\n",
       "            </table>\n",
       "        </td>\n",
       "        <td>\n",
       "        <svg width=\"170\" height=\"147\" style=\"stroke:rgb(0,0,0);stroke-width:1\" >\n",
       "\n",
       "  <!-- Horizontal lines -->\n",
       "  <line x1=\"0\" y1=\"0\" x2=\"120\" y2=\"0\" style=\"stroke-width:2\" />\n",
       "  <line x1=\"0\" y1=\"97\" x2=\"120\" y2=\"97\" style=\"stroke-width:2\" />\n",
       "\n",
       "  <!-- Vertical lines -->\n",
       "  <line x1=\"0\" y1=\"0\" x2=\"0\" y2=\"97\" style=\"stroke-width:2\" />\n",
       "  <line x1=\"120\" y1=\"0\" x2=\"120\" y2=\"97\" style=\"stroke-width:2\" />\n",
       "\n",
       "  <!-- Colored Rectangle -->\n",
       "  <polygon points=\"0.0,0.0 120.0,0.0 120.0,97.5 0.0,97.5\" style=\"fill:#ECB172A0;stroke-width:0\"/>\n",
       "\n",
       "  <!-- Text -->\n",
       "  <text x=\"60.000000\" y=\"117.500000\" font-size=\"1.0rem\" font-weight=\"100\" text-anchor=\"middle\" >400</text>\n",
       "  <text x=\"140.000000\" y=\"48.750000\" font-size=\"1.0rem\" font-weight=\"100\" text-anchor=\"middle\" transform=\"rotate(-90,140.000000,48.750000)\">325</text>\n",
       "</svg>\n",
       "        </td>\n",
       "    </tr>\n",
       "</table></div></li></ul></div></li><li class='xr-section-item'><input id='section-39b874b3-b9f7-4adc-b2c1-a9641237b1f0' class='xr-section-summary-in' type='checkbox'  ><label for='section-39b874b3-b9f7-4adc-b2c1-a9641237b1f0' class='xr-section-summary' >Attributes: <span>(17)</span></label><div class='xr-section-inline-details'></div><div class='xr-section-details'><dl class='xr-attrs'><dt><span>_satpy_id :</span></dt><dd>!!python/object/apply:satpy.dataset.dataid._unpickle\n",
       "- calibration:\n",
       "    enum:\n",
       "    - reflectance\n",
       "    - brightness_temperature\n",
       "    - radiance\n",
       "    - counts\n",
       "    transitive: true\n",
       "  modifiers:\n",
       "    default: !!python/object/new:satpy.dataset.dataid.ModifierTuple\n",
       "    - !!python/tuple []\n",
       "    type: !!python/name:satpy.dataset.dataid.ModifierTuple &#x27;&#x27;\n",
       "  name:\n",
       "    required: true\n",
       "  resolution:\n",
       "    transitive: false\n",
       "  wavelength:\n",
       "    type: !!python/name:satpy.dataset.dataid.WavelengthRange &#x27;&#x27;\n",
       "- calibration: reflectance\n",
       "  modifiers: !!python/object/new:satpy.dataset.dataid.ModifierTuple\n",
       "  - !!python/tuple []\n",
       "  name: HRV\n",
       "  resolution: 1000.134348869\n",
       "  wavelength: !!python/object/new:satpy.dataset.dataid.WavelengthRange\n",
       "  - 0.5\n",
       "  - 0.7\n",
       "  - 0.9\n",
       "  - &quot;\\xB5m&quot;\n",
       "</dd><dt><span>ancillary_variables :</span></dt><dd>[]</dd><dt><span>area :</span></dt><dd>msg_seviri_rss_1km:\n",
       "  description: MSG SEVIRI Rapid Scanning Service area definition with 1 km resolution\n",
       "  projection:\n",
       "    proj: geos\n",
       "    lon_0: 9.5\n",
       "    h: 35785831\n",
       "    x_0: 0\n",
       "    y_0: 0\n",
       "    a: 6378169\n",
       "    rf: 295.488065897014\n",
       "    no_defs: null\n",
       "    type: crs\n",
       "  shape:\n",
       "    height: 891\n",
       "    width: 1843\n",
       "  area_extent:\n",
       "    lower_left_xy: [28503.828942775726, 5088183.4998726845]\n",
       "    upper_right_xy: [-1814743.776023388, 4197063.795030117]\n",
       "    units: m\n",
       "</dd><dt><span>calibration :</span></dt><dd>reflectance</dd><dt><span>coordinates :</span></dt><dd>acq_time</dd><dt><span>georef_offset_corrected :</span></dt><dd>True</dd><dt><span>modifiers :</span></dt><dd>[]</dd><dt><span>name :</span></dt><dd>HRV</dd><dt><span>orbital_parameters :</span></dt><dd>projection_altitude: 35785831.0\n",
       "projection_latitude: 0.0\n",
       "projection_longitude: 9.5\n",
       "satellite_actual_altitude: 35785318.36137774\n",
       "satellite_actual_latitude: 0.93420926835795\n",
       "satellite_actual_longitude: 9.32427158542414\n",
       "satellite_nominal_latitude: 0.0\n",
       "satellite_nominal_longitude: 9.5\n",
       "</dd><dt><span>platform_name :</span></dt><dd>Meteosat-10</dd><dt><span>reader :</span></dt><dd>seviri_l1b_native</dd><dt><span>resolution :</span></dt><dd>1000.134348869</dd><dt><span>sensor :</span></dt><dd>seviri</dd><dt><span>standard_name :</span></dt><dd>toa_bidirectional_reflectance</dd><dt><span>sun_earth_distance_correction_applied :</span></dt><dd>True</dd><dt><span>sun_earth_distance_correction_factor :</span></dt><dd>1.0282367454433767</dd><dt><span>wavelength :</span></dt><dd>[0.5, 0.7, 0.9, &#x27;µm&#x27;]</dd></dl></div></li></ul></div></div>"
      ],
      "text/plain": [
       "<xarray.DataArray 'data' (time: 6304, y: 325, x: 400)>\n",
       "dask.array<getitem, shape=(6304, 325, 400), dtype=int16, chunksize=(1, 325, 400), chunktype=numpy.ndarray>\n",
       "Coordinates:\n",
       "  * time     (time) datetime64[ns] 2020-01-01T00:05:00 ... 2021-11-07T10:35:00\n",
       "  * x        (x) float32 -5.221e+05 -5.231e+05 ... -9.201e+05 -9.211e+05\n",
       "    x_osgb   (y, x) float32 dask.array<chunksize=(325, 400), meta=np.ndarray>\n",
       "  * y        (y) float32 4.573e+06 4.574e+06 4.575e+06 ... 4.896e+06 4.897e+06\n",
       "    y_osgb   (y, x) float32 dask.array<chunksize=(325, 400), meta=np.ndarray>\n",
       "Attributes:\n",
       "    _satpy_id:                              !!python/object/apply:satpy.datas...\n",
       "    ancillary_variables:                    []\n",
       "    area:                                   msg_seviri_rss_1km:\\n  descriptio...\n",
       "    calibration:                            reflectance\n",
       "    coordinates:                            acq_time\n",
       "    georef_offset_corrected:                True\n",
       "    modifiers:                              []\n",
       "    name:                                   HRV\n",
       "    orbital_parameters:                     projection_altitude: 35785831.0\\n...\n",
       "    platform_name:                          Meteosat-10\n",
       "    reader:                                 seviri_l1b_native\n",
       "    resolution:                             1000.134348869\n",
       "    sensor:                                 seviri\n",
       "    standard_name:                          toa_bidirectional_reflectance\n",
       "    sun_earth_distance_correction_applied:  True\n",
       "    sun_earth_distance_correction_factor:   1.0282367454433767\n",
       "    wavelength:                             [0.5, 0.7, 0.9, 'µm']"
      ]
     },
     "execution_count": 292,
     "metadata": {},
     "output_type": "execute_result"
    }
   ],
   "source": [
    "subset"
   ]
  },
  {
   "cell_type": "code",
   "execution_count": 280,
   "id": "133ccc43",
   "metadata": {},
   "outputs": [],
   "source": [
    "solpos = solpos.loc[solpos['apparent_elevation'] >= 10, :]"
   ]
  },
  {
   "cell_type": "code",
   "execution_count": 158,
   "id": "65f92ce3",
   "metadata": {},
   "outputs": [
    {
     "data": {
      "text/plain": [
       "85532"
      ]
     },
     "execution_count": 158,
     "metadata": {},
     "output_type": "execute_result"
    }
   ],
   "source": [
    "len(solpos.index)"
   ]
  },
  {
   "cell_type": "code",
   "execution_count": 150,
   "id": "7914ca0c",
   "metadata": {},
   "outputs": [
    {
     "name": "stdout",
     "output_type": "stream",
     "text": [
      "2020-01-01 06:40:00 and 2020-01-01T00:05:00.000000000\n"
     ]
    }
   ],
   "source": [
    "print(solpos.index[0], 'and', subset.time[0].values)"
   ]
  },
  {
   "cell_type": "code",
   "execution_count": 281,
   "id": "fb14346d",
   "metadata": {},
   "outputs": [
    {
     "data": {
      "text/plain": [
       "42177"
      ]
     },
     "execution_count": 281,
     "metadata": {},
     "output_type": "execute_result"
    }
   ],
   "source": [
    "np.count_nonzero(np.in1d(subset.time.values, solpos.index))"
   ]
  },
  {
   "cell_type": "code",
   "execution_count": 282,
   "id": "8f6ef25c",
   "metadata": {},
   "outputs": [],
   "source": [
    "subset= subset[np.in1d(subset.time.values, solpos.index)]"
   ]
  },
  {
   "cell_type": "code",
   "execution_count": 235,
   "id": "fd36fe2e",
   "metadata": {},
   "outputs": [
    {
     "data": {
      "text/plain": [
       "numpy.datetime64('2020-01-06T09:00:00.000000000')"
      ]
     },
     "execution_count": 235,
     "metadata": {},
     "output_type": "execute_result"
    }
   ],
   "source": [
    "subset.time[1547].values"
   ]
  },
  {
   "cell_type": "code",
   "execution_count": 226,
   "id": "bf851421",
   "metadata": {},
   "outputs": [
    {
     "data": {
      "text/plain": [
       "Timestamp('2020-01-12 08:30:00')"
      ]
     },
     "execution_count": 226,
     "metadata": {},
     "output_type": "execute_result"
    }
   ],
   "source": [
    "solpos.index[1500]"
   ]
  },
  {
   "cell_type": "code",
   "execution_count": 228,
   "id": "9949dd91",
   "metadata": {},
   "outputs": [
    {
     "data": {
      "text/plain": [
       "numpy.datetime64('2020-01-06T09:00:00.000000000')"
      ]
     },
     "execution_count": 228,
     "metadata": {},
     "output_type": "execute_result"
    }
   ],
   "source": [
    "data.time[701].values"
   ]
  },
  {
   "cell_type": "code",
   "execution_count": 211,
   "id": "60444cc3",
   "metadata": {},
   "outputs": [
    {
     "data": {
      "text/plain": [
       "Timestamp('2020-01-06 09:05:00')"
      ]
     },
     "execution_count": 211,
     "metadata": {},
     "output_type": "execute_result"
    }
   ],
   "source": [
    "solpos.index[702]"
   ]
  },
  {
   "cell_type": "code",
   "execution_count": 14,
   "id": "465423ed",
   "metadata": {},
   "outputs": [],
   "source": [
    "BATCH_SIZE = 8\n",
    "EPOCHS = 6\n",
    "\n",
    "ch_dataset = ClimateHackDataset(dataset, crops_per_slice=2)\n",
    "ch_dataloader = DataLoader(ch_dataset, batch_size=BATCH_SIZE)\n",
    "dataloader = DataGenerator(ch_dataloader, 2) # ncl represents the number of classes for the model"
   ]
  },
  {
   "cell_type": "code",
   "execution_count": null,
   "id": "6845f35c",
   "metadata": {},
   "outputs": [],
   "source": [
    "x, y, z = next(iter(ch_dataloader))\n",
    "len(y)\n",
    "len(y[0])\n",
    "len(y[0][0])\n",
    "len(y[0][0][0])"
   ]
  },
  {
   "cell_type": "code",
   "execution_count": 66,
   "id": "b1117dc6",
   "metadata": {},
   "outputs": [
    {
     "data": {
      "text/plain": [
       "tensor(99290.2109)"
      ]
     },
     "execution_count": 66,
     "metadata": {},
     "output_type": "execute_result"
    }
   ],
   "source": [
    "x[0][1][1][1]"
   ]
  },
  {
   "cell_type": "code",
   "execution_count": 60,
   "id": "9e3cab26",
   "metadata": {},
   "outputs": [],
   "source": [
    "# Loading sample image\n",
    "img = y[1]\n",
    "\n",
    "# Resizing and normalizing image\n",
    "img = np.expand_dims(tf.image.resize_with_crop_or_pad(img, 64, 64), axis = 0) / 1023"
   ]
  },
  {
   "cell_type": "code",
   "execution_count": 289,
   "id": "b41a9f10",
   "metadata": {},
   "outputs": [
    {
     "ename": "NameError",
     "evalue": "name 'y' is not defined",
     "output_type": "error",
     "traceback": [
      "\u001b[1;31m---------------------------------------------------------------------------\u001b[0m",
      "\u001b[1;31mNameError\u001b[0m                                 Traceback (most recent call last)",
      "\u001b[1;32m~\\AppData\\Local\\Temp/ipykernel_28252/2500489586.py\u001b[0m in \u001b[0;36m<module>\u001b[1;34m\u001b[0m\n\u001b[1;32m----> 1\u001b[1;33m \u001b[0mims\u001b[0m \u001b[1;33m=\u001b[0m \u001b[0mnp\u001b[0m\u001b[1;33m.\u001b[0m\u001b[0mswapaxes\u001b[0m\u001b[1;33m(\u001b[0m\u001b[0mnp\u001b[0m\u001b[1;33m.\u001b[0m\u001b[0mswapaxes\u001b[0m\u001b[1;33m(\u001b[0m\u001b[0my\u001b[0m\u001b[1;33m.\u001b[0m\u001b[0mnumpy\u001b[0m\u001b[1;33m(\u001b[0m\u001b[1;33m)\u001b[0m\u001b[1;33m,\u001b[0m \u001b[1;36m1\u001b[0m\u001b[1;33m,\u001b[0m \u001b[1;36m3\u001b[0m\u001b[1;33m)\u001b[0m\u001b[1;33m,\u001b[0m \u001b[1;36m1\u001b[0m\u001b[1;33m,\u001b[0m \u001b[1;36m2\u001b[0m\u001b[1;33m)\u001b[0m\u001b[1;33m\u001b[0m\u001b[1;33m\u001b[0m\u001b[0m\n\u001b[0m",
      "\u001b[1;31mNameError\u001b[0m: name 'y' is not defined"
     ]
    }
   ],
   "source": [
    "ims = np.swapaxes(np.swapaxes(y.numpy(), 1, 3), 1, 2)"
   ]
  },
  {
   "cell_type": "code",
   "execution_count": 26,
   "id": "64f41950",
   "metadata": {},
   "outputs": [
    {
     "name": "stdout",
     "output_type": "stream",
     "text": [
      "(1, 1, 64, 64, 1)\n"
     ]
    }
   ],
   "source": [
    "img= np.squeeze(img, -1)\n",
    "img= np.expand_dims(img, -1)\n"
   ]
  },
  {
   "cell_type": "code",
   "execution_count": null,
   "id": "4d2b3d26",
   "metadata": {},
   "outputs": [],
   "source": [
    "x = layers.ConvLSTM2D(filters=64,\n",
    "    kernel_size=(5, 5), padding=\"same\", return_sequences=True, activation=\"relu\",)(img)\n",
    "print(x.shape)\n",
    "x = layers.BatchNormalization()(x)\n",
    "x = layers.ConvLSTM2D(filters=64,\n",
    "    kernel_size=(3, 3), padding=\"same\", return_sequences=True, activation=\"relu\",)(x)\n",
    "x = layers.BatchNormalization()(x)\n",
    "x = layers.ConvLSTM2D(filters=64, \n",
    "    kernel_size=(1, 1), padding=\"same\", return_sequences=True, activation=\"relu\",)(x)\n",
    "#x = layers.BatchNormalization()(x)\n",
    "\n",
    "x = layers.Conv3D(filters=1, \n",
    "    kernel_size=(3, 3, 3), activation=\"sigmoid\", padding=\"same\")(x) * 1023\n",
    "print(x.shape)\n",
    "x=np.squeeze(np.squeeze(x, axis = 0), axis = 0)\n",
    "plt.imshow(x)"
   ]
  },
  {
   "cell_type": "code",
   "execution_count": 10,
   "id": "2b79e41e",
   "metadata": {
    "collapsed": true
   },
   "outputs": [
    {
     "data": {
      "text/plain": [
       "<matplotlib.image.AxesImage at 0x26a113ed790>"
      ]
     },
     "execution_count": 10,
     "metadata": {},
     "output_type": "execute_result"
    },
    {
     "data": {
      "image/png": "[encoded data removed]",
      "text/plain": [
       "<Figure size 432x288 with 1 Axes>"
      ]
     },
     "metadata": {
      "needs_background": "light"
     },
     "output_type": "display_data"
    }
   ],
   "source": [
    "#model = tf.keras.models.load_model('submission/saved_model/my_model')\n",
    "pred = model.predict(img)\n",
    "pred = np.squeeze(np.squeeze(pred, axis = 0), axis = 0)\n",
    "plt.imshow(pred)"
   ]
  },
  {
   "cell_type": "code",
   "execution_count": 61,
   "id": "3dac98ab",
   "metadata": {},
   "outputs": [
    {
     "data": {
      "text/plain": [
       "<matplotlib.image.AxesImage at 0x23d02df8070>"
      ]
     },
     "execution_count": 61,
     "metadata": {},
     "output_type": "execute_result"
    },
    {
     "data": {
      "image/png": "[encoded data removed]",
      "text/plain": [
       "<Figure size 432x288 with 1 Axes>"
      ]
     },
     "metadata": {
      "needs_background": "light"
     },
     "output_type": "display_data"
    }
   ],
   "source": [
    "plt.imshow(y[1][0])"
   ]
  },
  {
   "cell_type": "markdown",
   "id": "108b45d0",
   "metadata": {},
   "source": [
    "## Submitting your model to DOXA\n",
    "\n",
    "```bash\n",
    "$ python doxa_cli.py user login\n",
    "```\n",
    "\n",
    "\n",
    "```bash\n",
    "$ python doxa_cli.py agent upload climatehack ./submission\n",
    "```"
   ]
  }
 ],
 "metadata": {
  "colab": {
   "collapsed_sections": [],
   "name": "Copy of Copy of load_and_plot_HRV_UK_Zarr_from_GCS.ipynb",
   "provenance": []
  },
  "interpreter": {
   "hash": "6f774df9e68be78be8fedc92c8cad2f0688a777ad163558f0717eecbd1f23d05"
  },
  "kernelspec": {
   "display_name": "Python 3 (ipykernel)",
   "language": "python",
   "name": "python3"
  },
  "language_info": {
   "codemirror_mode": {
    "name": "ipython",
    "version": 3
   },
   "file_extension": ".py",
   "mimetype": "text/x-python",
   "name": "python",
   "nbconvert_exporter": "python",
   "pygments_lexer": "ipython3",
   "version": "3.9.7"
  }
 },
 "nbformat": 4,
 "nbformat_minor": 5
}
